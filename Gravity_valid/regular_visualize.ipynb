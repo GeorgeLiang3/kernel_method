{
 "metadata": {
  "language_info": {
   "codemirror_mode": {
    "name": "ipython",
    "version": 3
   },
   "file_extension": ".py",
   "mimetype": "text/x-python",
   "name": "python",
   "nbconvert_exporter": "python",
   "pygments_lexer": "ipython3",
   "version": "3.7.1"
  },
  "orig_nbformat": 2,
  "kernelspec": {
   "name": "python371jvsc74a57bd0863b140fe49f5d3e369fbe7249b73a752afadf9235160b39fdc0acd9fc536c31",
   "display_name": "Python 3.7.1 64-bit ('nightly': conda)"
  }
 },
 "nbformat": 4,
 "nbformat_minor": 2,
 "cells": [
  {
   "cell_type": "code",
   "execution_count": 1,
   "metadata": {},
   "outputs": [
    {
     "output_type": "stream",
     "name": "stderr",
     "text": [
      "WARNING (theano.tensor.blas): Using NumPy C-API based implementation for BLAS functions.\n",
      "Active grids: ['regular']\n",
      "Active grids: ['regular' 'centered']\n",
      "Active grids: ['regular' 'centered']\n"
     ]
    },
    {
     "output_type": "display_data",
     "data": {
      "text/plain": "<Figure size 700x700 with 1 Axes>"
     },
     "metadata": {}
    }
   ],
   "source": [
    "\n",
    "import tensorflow as tf\n",
    "\n",
    "# gpus = tf.config.experimental.list_physical_devices('GPU') \n",
    "# for gpu in gpus: tf.config.experimental.set_memory_growth(gpu, True)\n",
    "\n",
    "\n",
    "from ipywidgets import interact, interactive\n",
    "import os\n",
    "import numpy as np\n",
    "import sys\n",
    "import timeit\n",
    "import csv\n",
    "sys.path.append('/Users/zhouji/Documents/github/YJ/GP_old')\n",
    "\n",
    "sys.path.append('/Users/zhouji/Documents/github/YJ/')\n",
    "import matplotlib.pyplot as plt\n",
    "\n",
    "import gempy as gp\n",
    "from gempy.core.tensor.tensorflow_graph_test import TFGraph\n",
    "import tensorflow as tf\n",
    "import tensorflow_probability as tfp\n",
    "import pandas as pd\n",
    "from gempy import create_data, map_series_to_surfaces\n",
    "from gempy.assets.geophysics import GravityPreprocessing\n",
    "tfd = tfp.distributions\n",
    "import seaborn as sns\n",
    "from ThreeLayer import *\n",
    "# %%\n",
    "\n",
    "X = [1000,2000,3000,4000,5000,6000,7000,8000]\n",
    "Y = [1000,2000,3000,4000,5000,6000,7000,8000]\n",
    "\n",
    "r = []\n",
    "for x in X:\n",
    "  for y in Y:\n",
    "    r.append(np.array([x,y]))\n",
    "receivers = np.array(r)\n",
    "\n",
    "path = '../GP_old/notebooks'\n",
    "orientation_path = \"/data/input_data/George_models/modelx_orientations.csv\"\n",
    "surface_path = '/data/input_data/George_models/'+\"modelx\"+'_surface_points.csv'\n",
    "\n",
    "model = ModelThree(path,surface_path,orientation_path,receivers = receivers,dtype = 'float64')\n",
    "model.plot_model()\n",
    "plt.show()"
   ]
  },
  {
   "cell_type": "code",
   "execution_count": 2,
   "metadata": {},
   "outputs": [
    {
     "output_type": "execute_result",
     "data": {
      "text/plain": [
       "    surface           series  order_surfaces  isActive    color  id  value_0\n",
       "0     rock1     Strat_Series               1      True  #015482   1      2.6\n",
       "1     rock2     Strat_Series               2      True  #9f0052   2      3.5\n",
       "2  basement  Basement_Series               1      True  #ffbe00   3      2.0"
      ],
      "text/html": "<style  type=\"text/css\" >\n    #T_96747662_c398_11eb_a4f5_acde48001122row0_col4 {\n            background-color:  #015482;\n        }    #T_96747662_c398_11eb_a4f5_acde48001122row1_col4 {\n            background-color:  #9f0052;\n        }    #T_96747662_c398_11eb_a4f5_acde48001122row2_col4 {\n            background-color:  #ffbe00;\n        }</style><table id=\"T_96747662_c398_11eb_a4f5_acde48001122\" ><thead>    <tr>        <th class=\"blank level0\" ></th>        <th class=\"col_heading level0 col0\" >surface</th>        <th class=\"col_heading level0 col1\" >series</th>        <th class=\"col_heading level0 col2\" >order_surfaces</th>        <th class=\"col_heading level0 col3\" >isActive</th>        <th class=\"col_heading level0 col4\" >color</th>        <th class=\"col_heading level0 col5\" >id</th>        <th class=\"col_heading level0 col6\" >value_0</th>    </tr></thead><tbody>\n                <tr>\n                        <th id=\"T_96747662_c398_11eb_a4f5_acde48001122level0_row0\" class=\"row_heading level0 row0\" >0</th>\n                        <td id=\"T_96747662_c398_11eb_a4f5_acde48001122row0_col0\" class=\"data row0 col0\" >rock1</td>\n                        <td id=\"T_96747662_c398_11eb_a4f5_acde48001122row0_col1\" class=\"data row0 col1\" >Strat_Series</td>\n                        <td id=\"T_96747662_c398_11eb_a4f5_acde48001122row0_col2\" class=\"data row0 col2\" >1</td>\n                        <td id=\"T_96747662_c398_11eb_a4f5_acde48001122row0_col3\" class=\"data row0 col3\" >True</td>\n                        <td id=\"T_96747662_c398_11eb_a4f5_acde48001122row0_col4\" class=\"data row0 col4\" >#015482</td>\n                        <td id=\"T_96747662_c398_11eb_a4f5_acde48001122row0_col5\" class=\"data row0 col5\" >1</td>\n                        <td id=\"T_96747662_c398_11eb_a4f5_acde48001122row0_col6\" class=\"data row0 col6\" >2.6</td>\n            </tr>\n            <tr>\n                        <th id=\"T_96747662_c398_11eb_a4f5_acde48001122level0_row1\" class=\"row_heading level0 row1\" >1</th>\n                        <td id=\"T_96747662_c398_11eb_a4f5_acde48001122row1_col0\" class=\"data row1 col0\" >rock2</td>\n                        <td id=\"T_96747662_c398_11eb_a4f5_acde48001122row1_col1\" class=\"data row1 col1\" >Strat_Series</td>\n                        <td id=\"T_96747662_c398_11eb_a4f5_acde48001122row1_col2\" class=\"data row1 col2\" >2</td>\n                        <td id=\"T_96747662_c398_11eb_a4f5_acde48001122row1_col3\" class=\"data row1 col3\" >True</td>\n                        <td id=\"T_96747662_c398_11eb_a4f5_acde48001122row1_col4\" class=\"data row1 col4\" >#9f0052</td>\n                        <td id=\"T_96747662_c398_11eb_a4f5_acde48001122row1_col5\" class=\"data row1 col5\" >2</td>\n                        <td id=\"T_96747662_c398_11eb_a4f5_acde48001122row1_col6\" class=\"data row1 col6\" >3.5</td>\n            </tr>\n            <tr>\n                        <th id=\"T_96747662_c398_11eb_a4f5_acde48001122level0_row2\" class=\"row_heading level0 row2\" >2</th>\n                        <td id=\"T_96747662_c398_11eb_a4f5_acde48001122row2_col0\" class=\"data row2 col0\" >basement</td>\n                        <td id=\"T_96747662_c398_11eb_a4f5_acde48001122row2_col1\" class=\"data row2 col1\" >Basement_Series</td>\n                        <td id=\"T_96747662_c398_11eb_a4f5_acde48001122row2_col2\" class=\"data row2 col2\" >1</td>\n                        <td id=\"T_96747662_c398_11eb_a4f5_acde48001122row2_col3\" class=\"data row2 col3\" >True</td>\n                        <td id=\"T_96747662_c398_11eb_a4f5_acde48001122row2_col4\" class=\"data row2 col4\" >#ffbe00</td>\n                        <td id=\"T_96747662_c398_11eb_a4f5_acde48001122row2_col5\" class=\"data row2 col5\" >3</td>\n                        <td id=\"T_96747662_c398_11eb_a4f5_acde48001122row2_col6\" class=\"data row2 col6\" >2</td>\n            </tr>\n    </tbody></table>"
     },
     "metadata": {},
     "execution_count": 2
    }
   ],
   "source": [
    "model.geo_data.surfaces"
   ]
  },
  {
   "source": [
    "Visualize in 3D"
   ],
   "cell_type": "markdown",
   "metadata": {}
  },
  {
   "cell_type": "code",
   "execution_count": 3,
   "metadata": {},
   "outputs": [
    {
     "output_type": "stream",
     "name": "stderr",
     "text": [
      "/Users/zhouji/Documents/github/YJ/GP_old/gempy/core/solution.py:284: UserWarning: Attribute error. Using non masked marching cubesmarching_cubes_lewiner() got an unexpected keyword argument 'mask'.\n  warnings.warn('Attribute error. Using non masked marching cubes' + str(e)+'.')\n"
     ]
    },
    {
     "output_type": "execute_result",
     "data": {
      "text/plain": [
       "<tf.Tensor: shape=(125128,), dtype=float64, numpy=\n",
       "array([0.93751757, 0.93984757, 0.94217781, ..., 1.02951894, 1.02951894,\n",
       "       1.02951894])>"
      ]
     },
     "metadata": {},
     "execution_count": 3
    }
   ],
   "source": [
    "model.activate_regular_grid()\n",
    "model.scalar_field(model.surface_points_coord)"
   ]
  },
  {
   "cell_type": "code",
   "execution_count": 4,
   "metadata": {},
   "outputs": [],
   "source": [
    "# from gempy.plot.vista import GemPyToVista\n",
    "# gpv = GemPyToVista(model)\n",
    "# gpv.plot_structured_grid('lith',render_topography=False)\n",
    "# gpv.plot_surfaces()\n",
    "# gpv.p.show()"
   ]
  },
  {
   "source": [
    "Only Centered grid activate here"
   ],
   "cell_type": "markdown",
   "metadata": {}
  },
  {
   "cell_type": "code",
   "execution_count": 5,
   "metadata": {},
   "outputs": [],
   "source": [
    "# model.activate_centered_grid()"
   ]
  },
  {
   "source": [
    "Compute the gravity"
   ],
   "cell_type": "markdown",
   "metadata": {}
  },
  {
   "cell_type": "code",
   "execution_count": 6,
   "metadata": {},
   "outputs": [],
   "source": [
    "# grav = model.calculate_grav(model.surface_points_coord,model.values_properties)"
   ]
  },
  {
   "cell_type": "code",
   "execution_count": 7,
   "metadata": {},
   "outputs": [],
   "source": [
    "# gravity = np.reshape(grav,[8,8])\n",
    "# plt.imshow(gravity)"
   ]
  },
  {
   "source": [
    "Let's try use all regular grids"
   ],
   "cell_type": "markdown",
   "metadata": {}
  },
  {
   "cell_type": "code",
   "execution_count": 8,
   "metadata": {},
   "outputs": [],
   "source": [
    "model.activate_regular_grid()"
   ]
  },
  {
   "cell_type": "code",
   "execution_count": 9,
   "metadata": {},
   "outputs": [
    {
     "output_type": "error",
     "ename": "AttributeError",
     "evalue": "'RegularGrid' object has no attribute 'set_coor'",
     "traceback": [
      "\u001b[0;31m---------------------------------------------------------------------------\u001b[0m",
      "\u001b[0;31mAttributeError\u001b[0m                            Traceback (most recent call last)",
      "\u001b[0;32m<ipython-input-9-87b3e1fbbee5>\u001b[0m in \u001b[0;36m<module>\u001b[0;34m\u001b[0m\n\u001b[0;32m----> 1\u001b[0;31m \u001b[0mmodel\u001b[0m\u001b[0;34m.\u001b[0m\u001b[0mgrid\u001b[0m\u001b[0;34m.\u001b[0m\u001b[0mregular_grid\u001b[0m\u001b[0;34m.\u001b[0m\u001b[0mset_coor\u001b[0m\u001b[0;34m(\u001b[0m\u001b[0mextent\u001b[0m \u001b[0;34m=\u001b[0m \u001b[0;34m[\u001b[0m\u001b[0;36m0\u001b[0m\u001b[0;34m,\u001b[0m \u001b[0;36m10000\u001b[0m\u001b[0;34m,\u001b[0m \u001b[0;36m0\u001b[0m\u001b[0;34m,\u001b[0m \u001b[0;36m10000\u001b[0m\u001b[0;34m,\u001b[0m \u001b[0;36m0\u001b[0m\u001b[0;34m,\u001b[0m \u001b[0;36m1000\u001b[0m\u001b[0;34m]\u001b[0m\u001b[0;34m,\u001b[0m \u001b[0mresolution\u001b[0m \u001b[0;34m=\u001b[0m \u001b[0;34m[\u001b[0m\u001b[0;36m50\u001b[0m\u001b[0;34m,\u001b[0m \u001b[0;36m50\u001b[0m\u001b[0;34m,\u001b[0m \u001b[0;36m50\u001b[0m\u001b[0;34m]\u001b[0m\u001b[0;34m)\u001b[0m\u001b[0;34m\u001b[0m\u001b[0;34m\u001b[0m\u001b[0m\n\u001b[0m",
      "\u001b[0;31mAttributeError\u001b[0m: 'RegularGrid' object has no attribute 'set_coor'"
     ]
    }
   ],
   "source": [
    "model.grid.regular_grid.set_coor(extent = [0, 10000, 0, 10000, 0, 1000], resolution = [50, 50, 50])"
   ]
  },
  {
   "cell_type": "code",
   "execution_count": 15,
   "metadata": {},
   "outputs": [
    {
     "output_type": "execute_result",
     "data": {
      "text/plain": [
       "<gempy.core.grid_modules.grid_types.RegularGrid at 0x7f9738961d30>"
      ]
     },
     "metadata": {},
     "execution_count": 15
    }
   ],
   "source": [
    "model.grid.regular_grid"
   ]
  },
  {
   "cell_type": "code",
   "execution_count": null,
   "metadata": {},
   "outputs": [],
   "source": []
  }
 ]
}