{
 "cells": [
  {
   "cell_type": "markdown",
   "metadata": {},
   "source": [
    "# Chapter 1: GemPy Basic\n",
    "\n",
    "In this first example, we will show how to construct a first basic model and the main objects and functions. First we import gempy:"
   ]
  },
  {
   "cell_type": "code",
   "execution_count": 2,
   "metadata": {
    "ExecuteTime": {
     "end_time": "2020-04-08T13:21:20.828742Z",
     "start_time": "2020-04-08T13:21:18.241293Z"
    }
   },
   "outputs": [],
   "source": [
    "# These two lines are necessary only if gempy is not installed\n",
    "import sys, os\n",
    "sys.path.append(\"../../..\")\n",
    "\n",
    "# Importing gempy\n",
    "import gempy as gp\n",
    "\n",
    "# Embedding matplotlib figures into the notebooks\n",
    "%matplotlib inline\n",
    "\n",
    "# Aux imports\n",
    "import numpy as np"
   ]
  },
  {
   "cell_type": "code",
   "execution_count": 3,
   "metadata": {
    "ExecuteTime": {
     "end_time": "2020-04-08T13:21:21.889292Z",
     "start_time": "2020-04-08T13:21:21.311574Z"
    },
    "scrolled": false
   },
   "outputs": [
    {
     "name": "stdout",
     "output_type": "stream",
     "text": [
      "Active grids: ['regular']\n"
     ]
    },
    {
     "data": {
      "text/plain": [
       "default_project 2020-04-08 15:21  2020-04-08 15:21"
      ]
     },
     "execution_count": 3,
     "metadata": {},
     "output_type": "execute_result"
    }
   ],
   "source": [
    "gp.create_data([0, 3000, 0, 20, 0, 2000], resolution=[3, 3, 3])"
   ]
  },
  {
   "cell_type": "markdown",
   "metadata": {},
   "source": [
    "All data get stored in a python object InputData.  This object can be easily stored in a Python pickle. However, these files have the limitation that all dependecies must have the same versions as those when the pickle were created. For these reason to have more stable tutorials we will generate the InputData from raw data---i.e. csv files exported from Geomodeller.\n",
    "\n",
    "These csv files can be found in the input_data folder in the root folder of GemPy. These tables contains uniquely the XYZ (and poles, azimuth and polarity in the foliation case) as well as their respective formation name (but not necessary the formation order).\n"
   ]
  },
  {
   "cell_type": "code",
   "execution_count": null,
   "metadata": {
    "ExecuteTime": {
     "start_time": "2020-04-08T13:21:44.405Z"
    }
   },
   "outputs": [],
   "source": [
    "# Importing the data from csv files and settign extent and resolution\n",
    "geo_data = gp.create_data([0,2000,0,2000,-2000,0],[ 10,10,10],\n",
    "                         path_f = os.pardir+\"../input_data/FabLessPoints_Foliations.csv\",\n",
    "                         path_i = os.pardir+\"../input_data/FabLessPoints_Points.csv\")"
   ]
  },
  {
   "cell_type": "code",
   "execution_count": 5,
   "metadata": {
    "ExecuteTime": {
     "end_time": "2020-04-08T13:21:23.079872Z",
     "start_time": "2020-04-08T13:21:23.067369Z"
    }
   },
   "outputs": [
    {
     "ename": "NameError",
     "evalue": "name 'geo_data' is not defined",
     "output_type": "error",
     "traceback": [
      "\u001b[0;31m---------------------------------------------------------------------------\u001b[0m",
      "\u001b[0;31mNameError\u001b[0m                                 Traceback (most recent call last)",
      "\u001b[0;32m<ipython-input-5-c8f134723534>\u001b[0m in \u001b[0;36m<module>\u001b[0;34m\u001b[0m\n\u001b[1;32m      1\u001b[0m \u001b[0;31m# Assigning series to formations as well as their order (timewise)\u001b[0m\u001b[0;34m\u001b[0m\u001b[0;34m\u001b[0m\u001b[0;34m\u001b[0m\u001b[0m\n\u001b[0;32m----> 2\u001b[0;31m gp.set_series(geo_data, {\"fault\":'MainFault', \n\u001b[0m\u001b[1;32m      3\u001b[0m                       \u001b[0;34m\"Rest\"\u001b[0m\u001b[0;34m:\u001b[0m \u001b[0;34m(\u001b[0m\u001b[0;34m'SecondaryReservoir'\u001b[0m\u001b[0;34m,\u001b[0m\u001b[0;34m'Seal'\u001b[0m\u001b[0;34m,\u001b[0m \u001b[0;34m'Reservoir'\u001b[0m\u001b[0;34m,\u001b[0m \u001b[0;34m'Overlying'\u001b[0m\u001b[0;34m)\u001b[0m\u001b[0;34m,\u001b[0m\u001b[0;34m\u001b[0m\u001b[0;34m\u001b[0m\u001b[0m\n\u001b[1;32m      4\u001b[0m                                },\n\u001b[1;32m      5\u001b[0m                        \u001b[0morder_series\u001b[0m \u001b[0;34m=\u001b[0m \u001b[0;34m[\u001b[0m\u001b[0;34m\"fault\"\u001b[0m\u001b[0;34m,\u001b[0m \u001b[0;34m'Rest'\u001b[0m\u001b[0;34m]\u001b[0m\u001b[0;34m,\u001b[0m\u001b[0;34m\u001b[0m\u001b[0;34m\u001b[0m\u001b[0m\n",
      "\u001b[0;31mNameError\u001b[0m: name 'geo_data' is not defined"
     ]
    }
   ],
   "source": [
    "# Assigning series to formations as well as their order (timewise)\n",
    "gp.set_series(geo_data, {\"fault\":'MainFault', \n",
    "                      \"Rest\": ('SecondaryReservoir','Seal', 'Reservoir', 'Overlying'), \n",
    "                               },\n",
    "                       order_series = [\"fault\", 'Rest'],\n",
    "                       order_formations=['MainFault', \n",
    "                                         'SecondaryReservoir', 'Seal','Reservoir', 'Overlying',\n",
    "                                         ]) \n",
    "#geo_data = gp.select_series(geo_data, ['Rest'])\n"
   ]
  },
  {
   "cell_type": "code",
   "execution_count": null,
   "metadata": {
    "ExecuteTime": {
     "start_time": "2020-04-08T13:21:23.238Z"
    }
   },
   "outputs": [
    {
     "name": "stdout",
     "output_type": "stream",
     "text": [
      "> \u001b[0;32m<ipython-input-5-c8f134723534>\u001b[0m(2)\u001b[0;36m<module>\u001b[0;34m()\u001b[0m\n",
      "\u001b[0;32m      1 \u001b[0;31m\u001b[0;31m# Assigning series to formations as well as their order (timewise)\u001b[0m\u001b[0;34m\u001b[0m\u001b[0;34m\u001b[0m\u001b[0;34m\u001b[0m\u001b[0m\n",
      "\u001b[0m\u001b[0;32m----> 2 \u001b[0;31mgp.set_series(geo_data, {\"fault\":'MainFault', \n",
      "\u001b[0m\u001b[0;32m      3 \u001b[0;31m                      \u001b[0;34m\"Rest\"\u001b[0m\u001b[0;34m:\u001b[0m \u001b[0;34m(\u001b[0m\u001b[0;34m'SecondaryReservoir'\u001b[0m\u001b[0;34m,\u001b[0m\u001b[0;34m'Seal'\u001b[0m\u001b[0;34m,\u001b[0m \u001b[0;34m'Reservoir'\u001b[0m\u001b[0;34m,\u001b[0m \u001b[0;34m'Overlying'\u001b[0m\u001b[0;34m)\u001b[0m\u001b[0;34m,\u001b[0m\u001b[0;34m\u001b[0m\u001b[0;34m\u001b[0m\u001b[0m\n",
      "\u001b[0m\u001b[0;32m      4 \u001b[0;31m                               },\n",
      "\u001b[0m\u001b[0;32m      5 \u001b[0;31m                       \u001b[0morder_series\u001b[0m \u001b[0;34m=\u001b[0m \u001b[0;34m[\u001b[0m\u001b[0;34m\"fault\"\u001b[0m\u001b[0;34m,\u001b[0m \u001b[0;34m'Rest'\u001b[0m\u001b[0;34m]\u001b[0m\u001b[0;34m,\u001b[0m\u001b[0;34m\u001b[0m\u001b[0;34m\u001b[0m\u001b[0m\n",
      "\u001b[0m\n"
     ]
    }
   ],
   "source": [
    "%debug"
   ]
  },
  {
   "cell_type": "code",
   "execution_count": null,
   "metadata": {
    "ExecuteTime": {
     "end_time": "2020-04-08T13:21:06.028650Z",
     "start_time": "2020-04-08T13:21:05.967Z"
    }
   },
   "outputs": [],
   "source": [
    "import theano.tensor as T\n",
    "import theano\n",
    "interp_data = gp.InterpolatorData(geo_data, u_grade=[1],\n",
    "                                  output='geology', dtype='float64', compile_theano=False)\n",
    "print(interp_data)\n",
    "the = interp_data.interpolator.tg"
   ]
  },
  {
   "cell_type": "code",
   "execution_count": null,
   "metadata": {
    "ExecuteTime": {
     "end_time": "2020-04-08T13:21:06.029754Z",
     "start_time": "2020-04-08T13:21:05.968Z"
    }
   },
   "outputs": [],
   "source": [
    "input_data_T = the.input_parameters_list()\n",
    "input_data_T"
   ]
  },
  {
   "cell_type": "code",
   "execution_count": null,
   "metadata": {
    "ExecuteTime": {
     "end_time": "2020-04-08T13:21:06.030855Z",
     "start_time": "2020-04-08T13:21:05.972Z"
    }
   },
   "outputs": [],
   "source": [
    "geo_data.interfaces.head()"
   ]
  },
  {
   "cell_type": "code",
   "execution_count": null,
   "metadata": {
    "ExecuteTime": {
     "end_time": "2020-04-08T13:21:06.031956Z",
     "start_time": "2020-04-08T13:21:05.974Z"
    }
   },
   "outputs": [],
   "source": [
    "geo_data.formations"
   ]
  },
  {
   "cell_type": "code",
   "execution_count": null,
   "metadata": {
    "ExecuteTime": {
     "end_time": "2020-04-08T13:21:06.033101Z",
     "start_time": "2020-04-08T13:21:05.975Z"
    }
   },
   "outputs": [],
   "source": [
    "th_fn = theano.function(input_data_T,\n",
    "                         the.compute_grad3(0),\n",
    "#                         mode=theano.compile.MonitorMode(\n",
    "#                         pre_func=inspect_inputs,\n",
    "#                         post_func=inspect_outputs),\n",
    "                                    on_unused_input='ignore',\n",
    "                                    allow_input_downcast=False,\n",
    "                                    profile=False)"
   ]
  },
  {
   "cell_type": "code",
   "execution_count": null,
   "metadata": {
    "ExecuteTime": {
     "end_time": "2020-04-08T13:21:06.034125Z",
     "start_time": "2020-04-08T13:21:05.976Z"
    }
   },
   "outputs": [],
   "source": [
    "i = interp_data.get_input_data()"
   ]
  },
  {
   "cell_type": "code",
   "execution_count": null,
   "metadata": {
    "ExecuteTime": {
     "end_time": "2020-04-08T13:21:06.035104Z",
     "start_time": "2020-04-08T13:21:05.978Z"
    },
    "scrolled": false
   },
   "outputs": [],
   "source": [
    "th_fn(*i)\n"
   ]
  },
  {
   "cell_type": "code",
   "execution_count": null,
   "metadata": {
    "ExecuteTime": {
     "end_time": "2020-04-08T13:21:06.036181Z",
     "start_time": "2020-04-08T13:21:05.979Z"
    }
   },
   "outputs": [],
   "source": [
    "tyito"
   ]
  },
  {
   "cell_type": "code",
   "execution_count": null,
   "metadata": {
    "ExecuteTime": {
     "end_time": "2020-04-08T13:21:06.037281Z",
     "start_time": "2020-04-08T13:21:05.981Z"
    }
   },
   "outputs": [],
   "source": [
    "# import pandas as pn\n",
    "# gp.set_orientations(geo_data,pn.DataFrame(geo_data.orientations.iloc[0,:]).T, append=True)\n",
    "# geo_data.orientations.set_value(2, 'formation', 'Overlying')"
   ]
  },
  {
   "cell_type": "code",
   "execution_count": null,
   "metadata": {
    "ExecuteTime": {
     "end_time": "2020-04-08T13:21:06.038342Z",
     "start_time": "2020-04-08T13:21:05.982Z"
    },
    "scrolled": false
   },
   "outputs": [],
   "source": [
    "# # Assigning series to formations as well as their order (timewise)\n",
    "# gp.set_series(geo_data, {\"fault\":'MainFault', \n",
    "#                       \"Rest\": ('SecondaryReservoir','Seal', 'Reservoir'), \n",
    "#                                \"Rist\": ('Overlying')},\n",
    "#                        order_series = [\"fault\", 'Rest', 'Rist'],\n",
    "#                        order_formations=['MainFault', \n",
    "#                                          'SecondaryReservoir', 'Seal','Reservoir', 'Overlying',\n",
    "#                                          ]) \n",
    "\n",
    "# geo_data =gp.select_series(geo_data,['Rest', 'Rist'])"
   ]
  },
  {
   "cell_type": "code",
   "execution_count": null,
   "metadata": {
    "ExecuteTime": {
     "end_time": "2020-04-08T13:21:06.039495Z",
     "start_time": "2020-04-08T13:21:05.984Z"
    }
   },
   "outputs": [],
   "source": [
    "geo_data.orientations"
   ]
  },
  {
   "cell_type": "code",
   "execution_count": null,
   "metadata": {
    "ExecuteTime": {
     "end_time": "2020-04-08T13:21:06.040374Z",
     "start_time": "2020-04-08T13:21:05.985Z"
    }
   },
   "outputs": [],
   "source": [
    "gp.get_sequential_pile(geo_data)"
   ]
  },
  {
   "cell_type": "markdown",
   "metadata": {},
   "source": [
    "## The ins and outs of Input data objects\n",
    "\n",
    "As we have seen objects DataManagement.InputData (usually called geo_data in the tutorials) aim to have all the original geological properties, measurements and geological relations stored. \n",
    "\n",
    "Once we have the data ready to generate a model, we will need to create the next object type towards the final geological model:"
   ]
  },
  {
   "cell_type": "code",
   "execution_count": null,
   "metadata": {
    "ExecuteTime": {
     "end_time": "2020-04-08T13:21:06.041381Z",
     "start_time": "2020-04-08T13:21:05.987Z"
    }
   },
   "outputs": [],
   "source": [
    "geo_data.interfaces.drop(39, inplace=True)"
   ]
  },
  {
   "cell_type": "code",
   "execution_count": null,
   "metadata": {
    "ExecuteTime": {
     "end_time": "2020-04-08T13:21:06.042433Z",
     "start_time": "2020-04-08T13:21:05.988Z"
    },
    "scrolled": false
   },
   "outputs": [],
   "source": [
    "import theano.tensor as T\n",
    "import theano\n",
    "interp_data = gp.InterpolatorData(geo_data, u_grade=[1, 1],\n",
    "                                  output='geology', dtype='float64',\n",
    "                                   verbose=['scalar_field_iter', 'block_series', 'yet_simulated'],\n",
    "                                  compile_theano=True)\n"
   ]
  },
  {
   "cell_type": "code",
   "execution_count": null,
   "metadata": {
    "ExecuteTime": {
     "end_time": "2020-04-08T13:21:06.043220Z",
     "start_time": "2020-04-08T13:21:05.990Z"
    }
   },
   "outputs": [],
   "source": [
    "interp_data.interpolator.tg.len_series_i.get_value()"
   ]
  },
  {
   "cell_type": "code",
   "execution_count": null,
   "metadata": {},
   "outputs": [],
   "source": []
  },
  {
   "cell_type": "code",
   "execution_count": null,
   "metadata": {
    "ExecuteTime": {
     "end_time": "2020-04-08T13:21:06.044195Z",
     "start_time": "2020-04-08T13:21:05.992Z"
    }
   },
   "outputs": [],
   "source": [
    "interp_data.interpolator.tg.n_formations_per_serie.get_value()"
   ]
  },
  {
   "cell_type": "code",
   "execution_count": null,
   "metadata": {
    "ExecuteTime": {
     "end_time": "2020-04-08T13:21:06.045231Z",
     "start_time": "2020-04-08T13:21:05.993Z"
    }
   },
   "outputs": [],
   "source": [
    "interp_data.interpolator.tg.n_formations_per_serie.set_value(np.array([0, 3, 4], dtype='int32'))"
   ]
  },
  {
   "cell_type": "code",
   "execution_count": null,
   "metadata": {
    "ExecuteTime": {
     "end_time": "2020-04-08T13:21:06.046728Z",
     "start_time": "2020-04-08T13:21:05.994Z"
    }
   },
   "outputs": [],
   "source": [
    "interp_data.interpolator.tg.npf.get_value()"
   ]
  },
  {
   "cell_type": "code",
   "execution_count": null,
   "metadata": {},
   "outputs": [],
   "source": []
  },
  {
   "cell_type": "code",
   "execution_count": null,
   "metadata": {
    "ExecuteTime": {
     "end_time": "2020-04-08T13:21:06.047629Z",
     "start_time": "2020-04-08T13:21:05.996Z"
    }
   },
   "outputs": [],
   "source": [
    "geo_data.interfaces.shape"
   ]
  },
  {
   "cell_type": "code",
   "execution_count": null,
   "metadata": {
    "ExecuteTime": {
     "end_time": "2020-04-08T13:21:06.048454Z",
     "start_time": "2020-04-08T13:21:05.998Z"
    }
   },
   "outputs": [],
   "source": [
    "interp_data.interpolator.tg.npf.get_value()"
   ]
  },
  {
   "cell_type": "code",
   "execution_count": null,
   "metadata": {
    "ExecuteTime": {
     "end_time": "2020-04-08T13:21:06.049423Z",
     "start_time": "2020-04-08T13:21:05.999Z"
    }
   },
   "outputs": [],
   "source": [
    "%matplotlib inline\n",
    "import matplotlib.pyplot as plt\n",
    "import numpy as np\n",
    "x = np.linspace(-10,50)\n",
    "sigm = (1. / (1 + np.exp(-1 * (x - 0)))) *5 - (-1. / (1 + np.exp(1 * (x - 30))) +1) *0\n",
    "plt.plot(x, sigm)"
   ]
  },
  {
   "cell_type": "code",
   "execution_count": null,
   "metadata": {
    "ExecuteTime": {
     "end_time": "2020-04-08T13:21:06.050747Z",
     "start_time": "2020-04-08T13:21:06.001Z"
    }
   },
   "outputs": [],
   "source": [
    "interp_data.update_interpolator(geo_data)"
   ]
  },
  {
   "cell_type": "code",
   "execution_count": null,
   "metadata": {
    "ExecuteTime": {
     "end_time": "2020-04-08T13:21:06.051896Z",
     "start_time": "2020-04-08T13:21:06.002Z"
    }
   },
   "outputs": [],
   "source": [
    "interp_data.interpolator.tg.n_formation_float.get_value()"
   ]
  },
  {
   "cell_type": "code",
   "execution_count": null,
   "metadata": {
    "ExecuteTime": {
     "end_time": "2020-04-08T13:21:06.052887Z",
     "start_time": "2020-04-08T13:21:06.004Z"
    }
   },
   "outputs": [],
   "source": [
    "interp_data.interpolator.tg.n_formation_float.set_value(np.array([ 1.,  2.,  3.,  4.,  5., 6.], dtype='float32'))"
   ]
  },
  {
   "cell_type": "code",
   "execution_count": null,
   "metadata": {
    "ExecuteTime": {
     "end_time": "2020-04-08T13:21:06.054323Z",
     "start_time": "2020-04-08T13:21:06.005Z"
    },
    "scrolled": true
   },
   "outputs": [],
   "source": [
    "sol = gp.compute_model(interp_data)"
   ]
  },
  {
   "cell_type": "code",
   "execution_count": null,
   "metadata": {
    "ExecuteTime": {
     "end_time": "2020-04-08T13:21:06.055427Z",
     "start_time": "2020-04-08T13:21:06.006Z"
    },
    "run_control": {
     "marked": true
    },
    "scrolled": false
   },
   "outputs": [],
   "source": [
    "%matplotlib notebook\n",
    "gp.plot_section(geo_data,sol[0][0].astype(float), 30, plot_data = True, direction='y')"
   ]
  },
  {
   "cell_type": "code",
   "execution_count": null,
   "metadata": {
    "ExecuteTime": {
     "end_time": "2020-04-08T13:21:06.056529Z",
     "start_time": "2020-04-08T13:21:06.008Z"
    }
   },
   "outputs": [],
   "source": [
    "interp_data.interpolator.tg.n_formation_float.set_value(np.array([ 1.,  2.,  3.,  4.,  5., 6.], dtype='float32'))"
   ]
  },
  {
   "cell_type": "code",
   "execution_count": null,
   "metadata": {
    "ExecuteTime": {
     "end_time": "2020-04-08T13:21:06.057432Z",
     "start_time": "2020-04-08T13:21:06.009Z"
    }
   },
   "outputs": [],
   "source": [
    "interp_data.interpolator.tg.n_formations_per_serie.get_value()"
   ]
  },
  {
   "cell_type": "code",
   "execution_count": null,
   "metadata": {
    "ExecuteTime": {
     "end_time": "2020-04-08T13:21:06.058487Z",
     "start_time": "2020-04-08T13:21:06.010Z"
    }
   },
   "outputs": [],
   "source": [
    "interp_data.interpolator.tg.len_series_i.set_value(np.array([ 0,  4, 35], dtype='int32'))"
   ]
  },
  {
   "cell_type": "code",
   "execution_count": null,
   "metadata": {
    "ExecuteTime": {
     "end_time": "2020-04-08T13:21:06.059317Z",
     "start_time": "2020-04-08T13:21:06.011Z"
    }
   },
   "outputs": [],
   "source": [
    "interp_data.interpolator.tg.len_series_i.get_value()"
   ]
  },
  {
   "cell_type": "code",
   "execution_count": null,
   "metadata": {
    "ExecuteTime": {
     "end_time": "2020-04-08T13:21:06.060089Z",
     "start_time": "2020-04-08T13:21:06.013Z"
    }
   },
   "outputs": [],
   "source": [
    "interp_data.interpolator.tg.npf.get_value()"
   ]
  },
  {
   "cell_type": "code",
   "execution_count": null,
   "metadata": {
    "ExecuteTime": {
     "end_time": "2020-04-08T13:21:06.061424Z",
     "start_time": "2020-04-08T13:21:06.014Z"
    }
   },
   "outputs": [],
   "source": [
    "asa = interp_data.get_input_data()"
   ]
  },
  {
   "cell_type": "code",
   "execution_count": null,
   "metadata": {
    "ExecuteTime": {
     "end_time": "2020-04-08T13:21:06.062752Z",
     "start_time": "2020-04-08T13:21:06.017Z"
    }
   },
   "outputs": [],
   "source": [
    "interp_data.th_fn(*asa)"
   ]
  },
  {
   "cell_type": "code",
   "execution_count": null,
   "metadata": {
    "ExecuteTime": {
     "end_time": "2020-04-08T13:21:06.063924Z",
     "start_time": "2020-04-08T13:21:06.019Z"
    }
   },
   "outputs": [],
   "source": [
    "interp_data.interpolator.pandas_ref_layer_points"
   ]
  },
  {
   "cell_type": "code",
   "execution_count": null,
   "metadata": {
    "ExecuteTime": {
     "end_time": "2020-04-08T13:21:06.065292Z",
     "start_time": "2020-04-08T13:21:06.020Z"
    }
   },
   "outputs": [],
   "source": [
    "\n",
    "interp_data.geo_data_res.interfaces.drop(39, inplace=True)"
   ]
  },
  {
   "cell_type": "code",
   "execution_count": null,
   "metadata": {},
   "outputs": [],
   "source": []
  }
 ],
 "metadata": {
  "kernelspec": {
   "display_name": "Python 3",
   "language": "python",
   "name": "python3"
  },
  "language_info": {
   "codemirror_mode": {
    "name": "ipython",
    "version": 3
   },
   "file_extension": ".py",
   "mimetype": "text/x-python",
   "name": "python",
   "nbconvert_exporter": "python",
   "pygments_lexer": "ipython3",
   "version": "3.7.7"
  },
  "latex_envs": {
   "LaTeX_envs_menu_present": true,
   "autocomplete": true,
   "bibliofile": "biblio.bib",
   "cite_by": "apalike",
   "current_citInitial": 1,
   "eqLabelWithNumbers": true,
   "eqNumInitial": 1,
   "hotkeys": {
    "equation": "Ctrl-E",
    "itemize": "Ctrl-I"
   },
   "labels_anchors": false,
   "latex_user_defs": false,
   "report_style_numbering": false,
   "user_envs_cfg": false
  },
  "toc": {
   "colors": {
    "hover_highlight": "#DAA520",
    "running_highlight": "#FF0000",
    "selected_highlight": "#FFD700"
   },
   "moveMenuLeft": true,
   "nav_menu": {
    "height": "67px",
    "width": "252px"
   },
   "navigate_menu": true,
   "number_sections": true,
   "sideBar": true,
   "threshold": 4,
   "toc_cell": false,
   "toc_section_display": "block",
   "toc_window_display": false,
   "widenNotebook": false
  },
  "varInspector": {
   "cols": {
    "lenName": 16,
    "lenType": 16,
    "lenVar": 40
   },
   "kernels_config": {
    "python": {
     "delete_cmd_postfix": "",
     "delete_cmd_prefix": "del ",
     "library": "var_list.py",
     "varRefreshCmd": "print(var_dic_list())"
    },
    "r": {
     "delete_cmd_postfix": ") ",
     "delete_cmd_prefix": "rm(",
     "library": "var_list.r",
     "varRefreshCmd": "cat(var_dic_list()) "
    }
   },
   "types_to_exclude": [
    "module",
    "function",
    "builtin_function_or_method",
    "instance",
    "_Feature"
   ],
   "window_display": false
  }
 },
 "nbformat": 4,
 "nbformat_minor": 2
}
