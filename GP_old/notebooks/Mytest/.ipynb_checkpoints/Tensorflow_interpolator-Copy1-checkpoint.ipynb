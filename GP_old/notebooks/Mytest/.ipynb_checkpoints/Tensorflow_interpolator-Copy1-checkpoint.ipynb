{
 "cells": [
  {
   "cell_type": "code",
   "execution_count": 1,
   "metadata": {
    "ExecuteTime": {
     "end_time": "2020-04-13T21:08:16.314723Z",
     "start_time": "2020-04-13T21:08:10.443244Z"
    }
   },
   "outputs": [
    {
     "name": "stdout",
     "output_type": "stream",
     "text": [
      "Active grids: ['regular']\n",
      "Active grids: ['regular' 'centered']\n",
      "Active grids: ['regular' 'centered']\n"
     ]
    },
    {
     "ename": "ValueError",
     "evalue": "in user code:\n\n    /Users/zhouji/Documents/github/gempy/gempy/core/tensor/tensorflow_graph_test.py:534 scalar_field  *\n        self.length_of_CG, self.length_of_CGI, self.length_of_U_I, self.length_of_faults, self.length_of_C = self.matrices_shapes()\n    /Users/zhouji/Documents/github/gempy/gempy/core/tensor/tensorflow_graph_test.py:174 matrices_shapes  *\n        length_of_CGI = tf.constant(self.ref_layer_points.shape[0])\n    /Users/zhouji/.local/lib/python3.7/site-packages/tensorflow/python/framework/constant_op.py:262 constant  **\n        allow_broadcast=True)\n    /Users/zhouji/.local/lib/python3.7/site-packages/tensorflow/python/framework/constant_op.py:300 _constant_impl\n        allow_broadcast=allow_broadcast))\n    /Users/zhouji/.local/lib/python3.7/site-packages/tensorflow/python/framework/tensor_util.py:439 make_tensor_proto\n        raise ValueError(\"None values not supported.\")\n\n    ValueError: None values not supported.\n",
     "output_type": "error",
     "traceback": [
      "\u001b[0;31m---------------------------------------------------------------------------\u001b[0m",
      "\u001b[0;31mValueError\u001b[0m                                Traceback (most recent call last)",
      "\u001b[0;32m<ipython-input-1-2b22479f11d9>\u001b[0m in \u001b[0;36m<module>\u001b[0;34m\u001b[0m\n\u001b[1;32m     68\u001b[0m \u001b[0;34m\u001b[0m\u001b[0m\n\u001b[1;32m     69\u001b[0m \u001b[0;34m\u001b[0m\u001b[0m\n\u001b[0;32m---> 70\u001b[0;31m \u001b[0mZ_x\u001b[0m \u001b[0;34m=\u001b[0m \u001b[0mTFG\u001b[0m\u001b[0;34m.\u001b[0m\u001b[0mscalar_field\u001b[0m\u001b[0;34m(\u001b[0m\u001b[0;34m)\u001b[0m\u001b[0;34m\u001b[0m\u001b[0;34m\u001b[0m\u001b[0m\n\u001b[0m\u001b[1;32m     71\u001b[0m \u001b[0mscalar_field_at_surface_points\u001b[0m \u001b[0;34m=\u001b[0m \u001b[0mTFG\u001b[0m\u001b[0;34m.\u001b[0m\u001b[0mget_scalar_field_at_surface_points\u001b[0m\u001b[0;34m(\u001b[0m\u001b[0mZ_x\u001b[0m\u001b[0;34m)\u001b[0m\u001b[0;34m\u001b[0m\u001b[0;34m\u001b[0m\u001b[0m\n\u001b[1;32m     72\u001b[0m \u001b[0mformations_block\u001b[0m \u001b[0;34m=\u001b[0m \u001b[0mTFG\u001b[0m\u001b[0;34m.\u001b[0m\u001b[0mexport_formation_block\u001b[0m\u001b[0;34m(\u001b[0m\u001b[0mZ_x\u001b[0m\u001b[0;34m,\u001b[0m\u001b[0mscalar_field_at_surface_points\u001b[0m\u001b[0;34m,\u001b[0m\u001b[0mvalues_properties\u001b[0m\u001b[0;34m)\u001b[0m\u001b[0;34m\u001b[0m\u001b[0;34m\u001b[0m\u001b[0m\n",
      "\u001b[0;32m~/.local/lib/python3.7/site-packages/tensorflow/python/eager/def_function.py\u001b[0m in \u001b[0;36m__call__\u001b[0;34m(self, *args, **kwds)\u001b[0m\n\u001b[1;32m    577\u001b[0m         \u001b[0mxla_context\u001b[0m\u001b[0;34m.\u001b[0m\u001b[0mExit\u001b[0m\u001b[0;34m(\u001b[0m\u001b[0;34m)\u001b[0m\u001b[0;34m\u001b[0m\u001b[0;34m\u001b[0m\u001b[0m\n\u001b[1;32m    578\u001b[0m     \u001b[0;32melse\u001b[0m\u001b[0;34m:\u001b[0m\u001b[0;34m\u001b[0m\u001b[0;34m\u001b[0m\u001b[0m\n\u001b[0;32m--> 579\u001b[0;31m       \u001b[0mresult\u001b[0m \u001b[0;34m=\u001b[0m \u001b[0mself\u001b[0m\u001b[0;34m.\u001b[0m\u001b[0m_call\u001b[0m\u001b[0;34m(\u001b[0m\u001b[0;34m*\u001b[0m\u001b[0margs\u001b[0m\u001b[0;34m,\u001b[0m \u001b[0;34m**\u001b[0m\u001b[0mkwds\u001b[0m\u001b[0;34m)\u001b[0m\u001b[0;34m\u001b[0m\u001b[0;34m\u001b[0m\u001b[0m\n\u001b[0m\u001b[1;32m    580\u001b[0m \u001b[0;34m\u001b[0m\u001b[0m\n\u001b[1;32m    581\u001b[0m     \u001b[0;32mif\u001b[0m \u001b[0mtracing_count\u001b[0m \u001b[0;34m==\u001b[0m \u001b[0mself\u001b[0m\u001b[0;34m.\u001b[0m\u001b[0m_get_tracing_count\u001b[0m\u001b[0;34m(\u001b[0m\u001b[0;34m)\u001b[0m\u001b[0;34m:\u001b[0m\u001b[0;34m\u001b[0m\u001b[0;34m\u001b[0m\u001b[0m\n",
      "\u001b[0;32m~/.local/lib/python3.7/site-packages/tensorflow/python/eager/def_function.py\u001b[0m in \u001b[0;36m_call\u001b[0;34m(self, *args, **kwds)\u001b[0m\n\u001b[1;32m    624\u001b[0m       \u001b[0;31m# This is the first call of __call__, so we have to initialize.\u001b[0m\u001b[0;34m\u001b[0m\u001b[0;34m\u001b[0m\u001b[0;34m\u001b[0m\u001b[0m\n\u001b[1;32m    625\u001b[0m       \u001b[0minitializers\u001b[0m \u001b[0;34m=\u001b[0m \u001b[0;34m[\u001b[0m\u001b[0;34m]\u001b[0m\u001b[0;34m\u001b[0m\u001b[0;34m\u001b[0m\u001b[0m\n\u001b[0;32m--> 626\u001b[0;31m       \u001b[0mself\u001b[0m\u001b[0;34m.\u001b[0m\u001b[0m_initialize\u001b[0m\u001b[0;34m(\u001b[0m\u001b[0margs\u001b[0m\u001b[0;34m,\u001b[0m \u001b[0mkwds\u001b[0m\u001b[0;34m,\u001b[0m \u001b[0madd_initializers_to\u001b[0m\u001b[0;34m=\u001b[0m\u001b[0minitializers\u001b[0m\u001b[0;34m)\u001b[0m\u001b[0;34m\u001b[0m\u001b[0;34m\u001b[0m\u001b[0m\n\u001b[0m\u001b[1;32m    627\u001b[0m     \u001b[0;32mfinally\u001b[0m\u001b[0;34m:\u001b[0m\u001b[0;34m\u001b[0m\u001b[0;34m\u001b[0m\u001b[0m\n\u001b[1;32m    628\u001b[0m       \u001b[0;31m# At this point we know that the initialization is complete (or less\u001b[0m\u001b[0;34m\u001b[0m\u001b[0;34m\u001b[0m\u001b[0;34m\u001b[0m\u001b[0m\n",
      "\u001b[0;32m~/.local/lib/python3.7/site-packages/tensorflow/python/eager/def_function.py\u001b[0m in \u001b[0;36m_initialize\u001b[0;34m(self, args, kwds, add_initializers_to)\u001b[0m\n\u001b[1;32m    504\u001b[0m     self._concrete_stateful_fn = (\n\u001b[1;32m    505\u001b[0m         self._stateful_fn._get_concrete_function_internal_garbage_collected(  # pylint: disable=protected-access\n\u001b[0;32m--> 506\u001b[0;31m             *args, **kwds))\n\u001b[0m\u001b[1;32m    507\u001b[0m \u001b[0;34m\u001b[0m\u001b[0m\n\u001b[1;32m    508\u001b[0m     \u001b[0;32mdef\u001b[0m \u001b[0minvalid_creator_scope\u001b[0m\u001b[0;34m(\u001b[0m\u001b[0;34m*\u001b[0m\u001b[0munused_args\u001b[0m\u001b[0;34m,\u001b[0m \u001b[0;34m**\u001b[0m\u001b[0munused_kwds\u001b[0m\u001b[0;34m)\u001b[0m\u001b[0;34m:\u001b[0m\u001b[0;34m\u001b[0m\u001b[0;34m\u001b[0m\u001b[0m\n",
      "\u001b[0;32m~/.local/lib/python3.7/site-packages/tensorflow/python/eager/function.py\u001b[0m in \u001b[0;36m_get_concrete_function_internal_garbage_collected\u001b[0;34m(self, *args, **kwargs)\u001b[0m\n\u001b[1;32m   2444\u001b[0m       \u001b[0margs\u001b[0m\u001b[0;34m,\u001b[0m \u001b[0mkwargs\u001b[0m \u001b[0;34m=\u001b[0m \u001b[0;32mNone\u001b[0m\u001b[0;34m,\u001b[0m \u001b[0;32mNone\u001b[0m\u001b[0;34m\u001b[0m\u001b[0;34m\u001b[0m\u001b[0m\n\u001b[1;32m   2445\u001b[0m     \u001b[0;32mwith\u001b[0m \u001b[0mself\u001b[0m\u001b[0;34m.\u001b[0m\u001b[0m_lock\u001b[0m\u001b[0;34m:\u001b[0m\u001b[0;34m\u001b[0m\u001b[0;34m\u001b[0m\u001b[0m\n\u001b[0;32m-> 2446\u001b[0;31m       \u001b[0mgraph_function\u001b[0m\u001b[0;34m,\u001b[0m \u001b[0m_\u001b[0m\u001b[0;34m,\u001b[0m \u001b[0m_\u001b[0m \u001b[0;34m=\u001b[0m \u001b[0mself\u001b[0m\u001b[0;34m.\u001b[0m\u001b[0m_maybe_define_function\u001b[0m\u001b[0;34m(\u001b[0m\u001b[0margs\u001b[0m\u001b[0;34m,\u001b[0m \u001b[0mkwargs\u001b[0m\u001b[0;34m)\u001b[0m\u001b[0;34m\u001b[0m\u001b[0;34m\u001b[0m\u001b[0m\n\u001b[0m\u001b[1;32m   2447\u001b[0m     \u001b[0;32mreturn\u001b[0m \u001b[0mgraph_function\u001b[0m\u001b[0;34m\u001b[0m\u001b[0;34m\u001b[0m\u001b[0m\n\u001b[1;32m   2448\u001b[0m \u001b[0;34m\u001b[0m\u001b[0m\n",
      "\u001b[0;32m~/.local/lib/python3.7/site-packages/tensorflow/python/eager/function.py\u001b[0m in \u001b[0;36m_maybe_define_function\u001b[0;34m(self, args, kwargs)\u001b[0m\n\u001b[1;32m   2775\u001b[0m \u001b[0;34m\u001b[0m\u001b[0m\n\u001b[1;32m   2776\u001b[0m       \u001b[0mself\u001b[0m\u001b[0;34m.\u001b[0m\u001b[0m_function_cache\u001b[0m\u001b[0;34m.\u001b[0m\u001b[0mmissed\u001b[0m\u001b[0;34m.\u001b[0m\u001b[0madd\u001b[0m\u001b[0;34m(\u001b[0m\u001b[0mcall_context_key\u001b[0m\u001b[0;34m)\u001b[0m\u001b[0;34m\u001b[0m\u001b[0;34m\u001b[0m\u001b[0m\n\u001b[0;32m-> 2777\u001b[0;31m       \u001b[0mgraph_function\u001b[0m \u001b[0;34m=\u001b[0m \u001b[0mself\u001b[0m\u001b[0;34m.\u001b[0m\u001b[0m_create_graph_function\u001b[0m\u001b[0;34m(\u001b[0m\u001b[0margs\u001b[0m\u001b[0;34m,\u001b[0m \u001b[0mkwargs\u001b[0m\u001b[0;34m)\u001b[0m\u001b[0;34m\u001b[0m\u001b[0;34m\u001b[0m\u001b[0m\n\u001b[0m\u001b[1;32m   2778\u001b[0m       \u001b[0mself\u001b[0m\u001b[0;34m.\u001b[0m\u001b[0m_function_cache\u001b[0m\u001b[0;34m.\u001b[0m\u001b[0mprimary\u001b[0m\u001b[0;34m[\u001b[0m\u001b[0mcache_key\u001b[0m\u001b[0;34m]\u001b[0m \u001b[0;34m=\u001b[0m \u001b[0mgraph_function\u001b[0m\u001b[0;34m\u001b[0m\u001b[0;34m\u001b[0m\u001b[0m\n\u001b[1;32m   2779\u001b[0m       \u001b[0;32mreturn\u001b[0m \u001b[0mgraph_function\u001b[0m\u001b[0;34m,\u001b[0m \u001b[0margs\u001b[0m\u001b[0;34m,\u001b[0m \u001b[0mkwargs\u001b[0m\u001b[0;34m\u001b[0m\u001b[0;34m\u001b[0m\u001b[0m\n",
      "\u001b[0;32m~/.local/lib/python3.7/site-packages/tensorflow/python/eager/function.py\u001b[0m in \u001b[0;36m_create_graph_function\u001b[0;34m(self, args, kwargs, override_flat_arg_shapes)\u001b[0m\n\u001b[1;32m   2665\u001b[0m             \u001b[0marg_names\u001b[0m\u001b[0;34m=\u001b[0m\u001b[0marg_names\u001b[0m\u001b[0;34m,\u001b[0m\u001b[0;34m\u001b[0m\u001b[0;34m\u001b[0m\u001b[0m\n\u001b[1;32m   2666\u001b[0m             \u001b[0moverride_flat_arg_shapes\u001b[0m\u001b[0;34m=\u001b[0m\u001b[0moverride_flat_arg_shapes\u001b[0m\u001b[0;34m,\u001b[0m\u001b[0;34m\u001b[0m\u001b[0;34m\u001b[0m\u001b[0m\n\u001b[0;32m-> 2667\u001b[0;31m             capture_by_value=self._capture_by_value),\n\u001b[0m\u001b[1;32m   2668\u001b[0m         \u001b[0mself\u001b[0m\u001b[0;34m.\u001b[0m\u001b[0m_function_attributes\u001b[0m\u001b[0;34m,\u001b[0m\u001b[0;34m\u001b[0m\u001b[0;34m\u001b[0m\u001b[0m\n\u001b[1;32m   2669\u001b[0m         \u001b[0;31m# Tell the ConcreteFunction to clean up its graph once it goes out of\u001b[0m\u001b[0;34m\u001b[0m\u001b[0;34m\u001b[0m\u001b[0;34m\u001b[0m\u001b[0m\n",
      "\u001b[0;32m~/.local/lib/python3.7/site-packages/tensorflow/python/framework/func_graph.py\u001b[0m in \u001b[0;36mfunc_graph_from_py_func\u001b[0;34m(name, python_func, args, kwargs, signature, func_graph, autograph, autograph_options, add_control_dependencies, arg_names, op_return_value, collections, capture_by_value, override_flat_arg_shapes)\u001b[0m\n\u001b[1;32m    979\u001b[0m         \u001b[0m_\u001b[0m\u001b[0;34m,\u001b[0m \u001b[0moriginal_func\u001b[0m \u001b[0;34m=\u001b[0m \u001b[0mtf_decorator\u001b[0m\u001b[0;34m.\u001b[0m\u001b[0munwrap\u001b[0m\u001b[0;34m(\u001b[0m\u001b[0mpython_func\u001b[0m\u001b[0;34m)\u001b[0m\u001b[0;34m\u001b[0m\u001b[0;34m\u001b[0m\u001b[0m\n\u001b[1;32m    980\u001b[0m \u001b[0;34m\u001b[0m\u001b[0m\n\u001b[0;32m--> 981\u001b[0;31m       \u001b[0mfunc_outputs\u001b[0m \u001b[0;34m=\u001b[0m \u001b[0mpython_func\u001b[0m\u001b[0;34m(\u001b[0m\u001b[0;34m*\u001b[0m\u001b[0mfunc_args\u001b[0m\u001b[0;34m,\u001b[0m \u001b[0;34m**\u001b[0m\u001b[0mfunc_kwargs\u001b[0m\u001b[0;34m)\u001b[0m\u001b[0;34m\u001b[0m\u001b[0;34m\u001b[0m\u001b[0m\n\u001b[0m\u001b[1;32m    982\u001b[0m \u001b[0;34m\u001b[0m\u001b[0m\n\u001b[1;32m    983\u001b[0m       \u001b[0;31m# invariant: `func_outputs` contains only Tensors, CompositeTensors,\u001b[0m\u001b[0;34m\u001b[0m\u001b[0;34m\u001b[0m\u001b[0;34m\u001b[0m\u001b[0m\n",
      "\u001b[0;32m~/.local/lib/python3.7/site-packages/tensorflow/python/eager/def_function.py\u001b[0m in \u001b[0;36mwrapped_fn\u001b[0;34m(*args, **kwds)\u001b[0m\n\u001b[1;32m    439\u001b[0m         \u001b[0;31m# __wrapped__ allows AutoGraph to swap in a converted function. We give\u001b[0m\u001b[0;34m\u001b[0m\u001b[0;34m\u001b[0m\u001b[0;34m\u001b[0m\u001b[0m\n\u001b[1;32m    440\u001b[0m         \u001b[0;31m# the function a weak reference to itself to avoid a reference cycle.\u001b[0m\u001b[0;34m\u001b[0m\u001b[0;34m\u001b[0m\u001b[0;34m\u001b[0m\u001b[0m\n\u001b[0;32m--> 441\u001b[0;31m         \u001b[0;32mreturn\u001b[0m \u001b[0mweak_wrapped_fn\u001b[0m\u001b[0;34m(\u001b[0m\u001b[0;34m)\u001b[0m\u001b[0;34m.\u001b[0m\u001b[0m__wrapped__\u001b[0m\u001b[0;34m(\u001b[0m\u001b[0;34m*\u001b[0m\u001b[0margs\u001b[0m\u001b[0;34m,\u001b[0m \u001b[0;34m**\u001b[0m\u001b[0mkwds\u001b[0m\u001b[0;34m)\u001b[0m\u001b[0;34m\u001b[0m\u001b[0;34m\u001b[0m\u001b[0m\n\u001b[0m\u001b[1;32m    442\u001b[0m     \u001b[0mweak_wrapped_fn\u001b[0m \u001b[0;34m=\u001b[0m \u001b[0mweakref\u001b[0m\u001b[0;34m.\u001b[0m\u001b[0mref\u001b[0m\u001b[0;34m(\u001b[0m\u001b[0mwrapped_fn\u001b[0m\u001b[0;34m)\u001b[0m\u001b[0;34m\u001b[0m\u001b[0;34m\u001b[0m\u001b[0m\n\u001b[1;32m    443\u001b[0m \u001b[0;34m\u001b[0m\u001b[0m\n",
      "\u001b[0;32m~/.local/lib/python3.7/site-packages/tensorflow/python/eager/function.py\u001b[0m in \u001b[0;36mbound_method_wrapper\u001b[0;34m(*args, **kwargs)\u001b[0m\n\u001b[1;32m   3297\u001b[0m     \u001b[0;31m# However, the replacer is still responsible for attaching self properly.\u001b[0m\u001b[0;34m\u001b[0m\u001b[0;34m\u001b[0m\u001b[0;34m\u001b[0m\u001b[0m\n\u001b[1;32m   3298\u001b[0m     \u001b[0;31m# TODO(mdan): Is it possible to do it here instead?\u001b[0m\u001b[0;34m\u001b[0m\u001b[0;34m\u001b[0m\u001b[0;34m\u001b[0m\u001b[0m\n\u001b[0;32m-> 3299\u001b[0;31m     \u001b[0;32mreturn\u001b[0m \u001b[0mwrapped_fn\u001b[0m\u001b[0;34m(\u001b[0m\u001b[0;34m*\u001b[0m\u001b[0margs\u001b[0m\u001b[0;34m,\u001b[0m \u001b[0;34m**\u001b[0m\u001b[0mkwargs\u001b[0m\u001b[0;34m)\u001b[0m\u001b[0;34m\u001b[0m\u001b[0;34m\u001b[0m\u001b[0m\n\u001b[0m\u001b[1;32m   3300\u001b[0m   \u001b[0mweak_bound_method_wrapper\u001b[0m \u001b[0;34m=\u001b[0m \u001b[0mweakref\u001b[0m\u001b[0;34m.\u001b[0m\u001b[0mref\u001b[0m\u001b[0;34m(\u001b[0m\u001b[0mbound_method_wrapper\u001b[0m\u001b[0;34m)\u001b[0m\u001b[0;34m\u001b[0m\u001b[0;34m\u001b[0m\u001b[0m\n\u001b[1;32m   3301\u001b[0m \u001b[0;34m\u001b[0m\u001b[0m\n",
      "\u001b[0;32m~/.local/lib/python3.7/site-packages/tensorflow/python/framework/func_graph.py\u001b[0m in \u001b[0;36mwrapper\u001b[0;34m(*args, **kwargs)\u001b[0m\n\u001b[1;32m    966\u001b[0m           \u001b[0;32mexcept\u001b[0m \u001b[0mException\u001b[0m \u001b[0;32mas\u001b[0m \u001b[0me\u001b[0m\u001b[0;34m:\u001b[0m  \u001b[0;31m# pylint:disable=broad-except\u001b[0m\u001b[0;34m\u001b[0m\u001b[0;34m\u001b[0m\u001b[0m\n\u001b[1;32m    967\u001b[0m             \u001b[0;32mif\u001b[0m \u001b[0mhasattr\u001b[0m\u001b[0;34m(\u001b[0m\u001b[0me\u001b[0m\u001b[0;34m,\u001b[0m \u001b[0;34m\"ag_error_metadata\"\u001b[0m\u001b[0;34m)\u001b[0m\u001b[0;34m:\u001b[0m\u001b[0;34m\u001b[0m\u001b[0;34m\u001b[0m\u001b[0m\n\u001b[0;32m--> 968\u001b[0;31m               \u001b[0;32mraise\u001b[0m \u001b[0me\u001b[0m\u001b[0;34m.\u001b[0m\u001b[0mag_error_metadata\u001b[0m\u001b[0;34m.\u001b[0m\u001b[0mto_exception\u001b[0m\u001b[0;34m(\u001b[0m\u001b[0me\u001b[0m\u001b[0;34m)\u001b[0m\u001b[0;34m\u001b[0m\u001b[0;34m\u001b[0m\u001b[0m\n\u001b[0m\u001b[1;32m    969\u001b[0m             \u001b[0;32melse\u001b[0m\u001b[0;34m:\u001b[0m\u001b[0;34m\u001b[0m\u001b[0;34m\u001b[0m\u001b[0m\n\u001b[1;32m    970\u001b[0m               \u001b[0;32mraise\u001b[0m\u001b[0;34m\u001b[0m\u001b[0;34m\u001b[0m\u001b[0m\n",
      "\u001b[0;31mValueError\u001b[0m: in user code:\n\n    /Users/zhouji/Documents/github/gempy/gempy/core/tensor/tensorflow_graph_test.py:534 scalar_field  *\n        self.length_of_CG, self.length_of_CGI, self.length_of_U_I, self.length_of_faults, self.length_of_C = self.matrices_shapes()\n    /Users/zhouji/Documents/github/gempy/gempy/core/tensor/tensorflow_graph_test.py:174 matrices_shapes  *\n        length_of_CGI = tf.constant(self.ref_layer_points.shape[0])\n    /Users/zhouji/.local/lib/python3.7/site-packages/tensorflow/python/framework/constant_op.py:262 constant  **\n        allow_broadcast=True)\n    /Users/zhouji/.local/lib/python3.7/site-packages/tensorflow/python/framework/constant_op.py:300 _constant_impl\n        allow_broadcast=allow_broadcast))\n    /Users/zhouji/.local/lib/python3.7/site-packages/tensorflow/python/framework/tensor_util.py:439 make_tensor_proto\n        raise ValueError(\"None values not supported.\")\n\n    ValueError: None values not supported.\n"
     ]
    }
   ],
   "source": [
    "import sys\n",
    "import numpy as np\n",
    "import matplotlib.pyplot as plt\n",
    "sys.path.append(\"/Users/zhouji/Documents/github/gempy\")\n",
    "\n",
    "from gempy.core.tensor.tensorflow_graph_test import TFGraph\n",
    "import tensorflow as tf\n",
    "import pandas as pd\n",
    "import gempy as gp\n",
    "from gempy.assets.geophysics import GravityPreprocessing\n",
    "\n",
    "def Plot_2D_scaler_field(grid,scaler_field):\n",
    "    G = grid[np.where(grid[:,1] == [grid[-1][1]])[0]]\n",
    "    S = scaler_field.numpy()[np.where(grid[:,1] == [grid[0][1]])[0]]\n",
    "    XX = G[:,0].reshape([50,50])\n",
    "    ZZ = G[:,2].reshape([50,50])\n",
    "    S = S.reshape([50,50])\n",
    "    plt.contour(XX,ZZ,S)\n",
    "\n",
    "\n",
    "geo_data = gp.create_data([0, 1000, 0, 1000, 0, 1000], resolution=[50, 50, 50],\n",
    "                          path_o=\"/Users/zhouji/Documents/github/gempy/notebooks/data/input_data/jan_models/model2_orientations.csv\",\n",
    "                          path_i=\"/Users/zhouji/Documents/github/gempy/notebooks/data/input_data/jan_models/model2_surface_points.csv\")\n",
    "gp.map_series_to_surfaces(geo_data, {\"Strat_Series\": (\n",
    "    'rock2', 'rock1'), \"Basement_Series\": ('basement')})\n",
    "\n",
    "geo_data.add_surface_values([2.61,3.1,2.92])\n",
    "\n",
    "## Gravity test\n",
    "## ---------\n",
    "grav_res = 20\n",
    "X = np.linspace(0, 1000, grav_res)\n",
    "Y = np.linspace(0, 1000, grav_res)\n",
    "Z= 300\n",
    "xyz= np.meshgrid(X, Y, Z)\n",
    "xy_ravel = np.vstack(list(map(np.ravel, xyz))).T\n",
    "\n",
    "\n",
    "geo_data.set_centered_grid(xy_ravel,  resolution = [10, 10, 15], radius=5000)\n",
    "interpolator = geo_data.interpolator\n",
    "dtype = interpolator.additional_data.options.df.loc['values', 'dtype']\n",
    "\n",
    "dips_position, dip_angles, azimuth, polarity, surface_points_coord, fault_drift, grid, values_properties = interpolator.get_python_input_block()[\n",
    "    0:-3]\n",
    "\n",
    "g = GravityPreprocessing(geo_data.grid.centered_grid)\n",
    "tz = g.set_tz_kernel()\n",
    "\n",
    "len_rest_form = interpolator.additional_data.structure_data.df.loc[\n",
    "    'values', 'len surfaces surface_points']-1\n",
    "Range = interpolator.additional_data.kriging_data.df.loc['values', 'range']\n",
    "C_o = interpolator.additional_data.kriging_data.df.loc['values', '$C_o$']\n",
    "rescale_factor = interpolator.additional_data.rescaling_data.df.loc[\n",
    "    'values', 'rescaling factor']\n",
    "nugget_effect_grad = np.cast[dtype](\n",
    "    np.tile(interpolator.orientations.df['smooth'], 3))\n",
    "nugget_effect_scalar = np.cast[interpolator.dtype](\n",
    "    interpolator.surface_points.df['smooth'])\n",
    "\n",
    "surface_points_coord = tf.Variable(surface_points_coord,dtype = tf.float64)\n",
    "\n",
    "\n",
    "TFG = TFGraph(dips_position, dip_angles, azimuth,\n",
    "  polarity, surface_points_coord, fault_drift,\n",
    "  grid, values_properties, len_rest_form, Range,\n",
    "  C_o, nugget_effect_scalar, nugget_effect_grad,\n",
    "  rescale_factor)\n",
    "\n",
    "\n",
    "Z_x = TFG.scalar_field()\n",
    "scalar_field_at_surface_points = TFG.get_scalar_field_at_surface_points(Z_x)\n",
    "formations_block = TFG.export_formation_block(Z_x,scalar_field_at_surface_points,values_properties)\n",
    "\n",
    "lg_0 = interpolator.grid.get_grid_args('centered')[0]\n",
    "lg_1 = interpolator.grid.get_grid_args('centered')[1]\n",
    "dips_position = tf.convert_to_tensor(dips_position)\n",
    "dip_angles = tf.convert_to_tensor(dip_angles)\n",
    "azimuth = tf.convert_to_tensor(azimuth)\n",
    "polarity = tf.convert_to_tensor(polarity)\n",
    "surface_points_coord = tf.convert_to_tensor(surface_points_coord)\n",
    "fault_drift = tf.convert_to_tensor(fault_drift)\n",
    "grid = tf.convert_to_tensor(grid)\n",
    "values_properties = tf.convert_to_tensor(values_properties)\n",
    "len_rest_form = tf.convert_to_tensor(len_rest_form)\n",
    "Range = tf.convert_to_tensor(Range,tf.float64)\n",
    "C_o = tf.convert_to_tensor(C_o)\n",
    "nugget_effect_grad = tf.convert_to_tensor(nugget_effect_grad)\n",
    "nugget_effect_scalar = tf.convert_to_tensor(nugget_effect_scalar)\n",
    "rescale_factor = tf.convert_to_tensor(rescale_factor,tf.float64)\n",
    "\n",
    "densities = formations_block[1][lg_0:lg_1]\n",
    "\n",
    "grav = TFG.compute_forward_gravity(tz,lg_0,lg_1,densities)\n",
    "\n"
   ]
  },
  {
   "cell_type": "code",
   "execution_count": 5,
   "metadata": {
    "ExecuteTime": {
     "end_time": "2020-04-13T21:11:18.178970Z",
     "start_time": "2020-04-13T21:11:18.175222Z"
    }
   },
   "outputs": [
    {
     "data": {
      "text/plain": [
       "2"
      ]
     },
     "execution_count": 5,
     "metadata": {},
     "output_type": "execute_result"
    }
   ],
   "source": [
    "TFG.number_of_points_per_surface.shape[0]"
   ]
  },
  {
   "cell_type": "code",
   "execution_count": 2,
   "metadata": {
    "ExecuteTime": {
     "end_time": "2020-04-13T20:56:54.838488Z",
     "start_time": "2020-04-13T20:56:54.705466Z"
    }
   },
   "outputs": [],
   "source": [
    "TFG.mutate(TFG.surface_points_all+tf.random.uniform(TFG.surface_points_all.shape,minval=-10., maxval=10.,dtype = tf.float64)/rescale_factor)"
   ]
  },
  {
   "cell_type": "code",
   "execution_count": 6,
   "metadata": {
    "ExecuteTime": {
     "end_time": "2020-04-13T20:57:16.423903Z",
     "start_time": "2020-04-13T20:57:14.307699Z"
    }
   },
   "outputs": [
    {
     "name": "stdout",
     "output_type": "stream",
     "text": [
      "excuting\n"
     ]
    }
   ],
   "source": [
    "new = TFG.scalar_field()\n",
    "Z_x = new"
   ]
  },
  {
   "cell_type": "code",
   "execution_count": 5,
   "metadata": {
    "ExecuteTime": {
     "end_time": "2020-04-13T20:57:05.213356Z",
     "start_time": "2020-04-13T20:57:05.206837Z"
    }
   },
   "outputs": [
    {
     "data": {
      "text/plain": [
       "<tf.Variable 'UnreadVariable' shape=(36, 3) dtype=float64, numpy=\n",
       "array([[ 2.99320745e-03, -1.64299019e-03,  1.69361111e-03],\n",
       "       [-2.56499918e-03,  3.34182033e-03,  2.66025451e-03],\n",
       "       [ 3.91939374e-03, -1.25346134e-03,  3.90877524e-03],\n",
       "       [ 4.67470258e-03, -2.92967241e-03,  1.79087204e-03],\n",
       "       [ 2.57434635e-03, -3.42205343e-03,  1.48392410e-03],\n",
       "       [ 1.35960544e-03,  1.26517533e-03, -4.77591325e-03],\n",
       "       [ 1.14214574e-03,  2.78389438e-03, -2.17309490e-03],\n",
       "       [ 3.81163020e-03, -1.62508471e-03, -2.06762870e-03],\n",
       "       [-1.35894877e-03,  5.92222478e-04, -2.66670665e-03],\n",
       "       [-2.42479045e-04, -2.08665870e-04,  1.35231820e-03],\n",
       "       [ 4.52246248e-03, -6.68348971e-04,  1.00280031e-03],\n",
       "       [-1.85779286e-03, -2.05097694e-03, -1.60966457e-03],\n",
       "       [-2.94754809e-03, -5.33338056e-04,  4.76290403e-03],\n",
       "       [ 2.62105020e-03, -6.23046770e-04,  2.17218749e-04],\n",
       "       [ 1.40528183e-03, -1.36294005e-03,  3.18670013e-03],\n",
       "       [ 1.37141748e-04,  1.16880737e-03,  4.00515826e-03],\n",
       "       [ 5.85785271e-04,  3.96095206e-03, -1.95870999e-05],\n",
       "       [ 4.42311860e-03,  7.35234223e-04,  2.37131849e-03],\n",
       "       [ 3.48613996e-03,  1.45995336e-03,  2.88855610e-03],\n",
       "       [ 3.38636193e-03,  2.54454117e-03,  4.01216888e-03],\n",
       "       [ 1.10851583e-03, -3.23498292e-03,  4.03659682e-03],\n",
       "       [-4.84941898e-03,  6.11252982e-04, -1.54050872e-03],\n",
       "       [-3.17880885e-04, -4.09231644e-03, -4.23176321e-04],\n",
       "       [-2.92086670e-03, -4.69668571e-03,  1.93993884e-03],\n",
       "       [ 1.29337880e-03, -3.81955801e-03, -3.73987066e-03],\n",
       "       [ 8.35384126e-04,  1.78776489e-03, -4.62926858e-03],\n",
       "       [-4.69389546e-03, -4.11179583e-03, -1.03193950e-03],\n",
       "       [-4.76516197e-03, -4.31208407e-03, -2.01817309e-03],\n",
       "       [-1.71885329e-03,  2.10966778e-03, -1.82910468e-03],\n",
       "       [-4.90172097e-03, -4.40092499e-03, -2.02944459e-03],\n",
       "       [-1.65592345e-03, -1.31875931e-04, -1.22124839e-03],\n",
       "       [ 1.55304727e-03, -4.78617144e-04, -6.95082099e-04],\n",
       "       [-2.17509514e-03, -1.32007018e-03,  3.50114419e-03],\n",
       "       [-1.84010949e-03, -8.52463210e-05,  1.98744841e-03],\n",
       "       [-6.06343794e-04,  1.38853714e-03, -4.75916138e-03],\n",
       "       [-4.61321454e-03,  2.99244383e-03,  3.48187838e-03]])>"
      ]
     },
     "execution_count": 5,
     "metadata": {},
     "output_type": "execute_result"
    }
   ],
   "source": [
    "TFG.surface_points_all.assign(tf.random.uniform(TFG.surface_points_all.shape,minval=-10., maxval=10.,dtype = tf.float64)/rescale_factor)"
   ]
  },
  {
   "cell_type": "code",
   "execution_count": 7,
   "metadata": {
    "ExecuteTime": {
     "end_time": "2020-04-13T20:57:19.769730Z",
     "start_time": "2020-04-13T20:57:19.508783Z"
    }
   },
   "outputs": [
    {
     "data": {
      "text/plain": [
       "<matplotlib.contour.QuadContourSet at 0x14bc16050>"
      ]
     },
     "execution_count": 7,
     "metadata": {},
     "output_type": "execute_result"
    },
    {
     "data": {
      "image/png": "[encoded data removed]",
      "text/plain": [
       "<Figure size 432x432 with 1 Axes>"
      ]
     },
     "metadata": {
      "needs_background": "light"
     },
     "output_type": "display_data"
    }
   ],
   "source": [
    "scalar_field_at_surface_points = TFG.get_scalar_field_at_surface_points(Z_x)\n",
    "formations_block = TFG.export_formation_block(Z_x,scalar_field_at_surface_points,values_properties)\n",
    "\n",
    "densities = formations_block[1][lg_0:lg_1]\n",
    "\n",
    "grav = TFG.compute_forward_gravity(tz,lg_0,lg_1,densities)\n",
    "\n",
    "grav = tf.reshape(grav,[20,20])\n",
    "### Plot gravity response\n",
    "xx,yy = np.meshgrid(X,Y)\n",
    "\n",
    "gp.plot.plot_data(geo_data, direction='z',)\n",
    "ax = plt.gca()\n",
    "ax.scatter(xy_ravel[:,0], xy_ravel[:, 1], s=10,zorder=1)\n",
    "ax.contourf(xx,yy,grav,zorder=-1)"
   ]
  },
  {
   "cell_type": "code",
   "execution_count": 9,
   "metadata": {
    "ExecuteTime": {
     "end_time": "2020-04-13T20:58:21.797589Z",
     "start_time": "2020-04-13T20:58:21.792092Z"
    }
   },
   "outputs": [
    {
     "data": {
      "text/plain": [
       "<tf.Variable 'Variable:0' shape=(36, 3) dtype=float64, numpy=\n",
       "array([[ 2.99320745e-03, -1.64299019e-03,  1.69361111e-03],\n",
       "       [-2.56499918e-03,  3.34182033e-03,  2.66025451e-03],\n",
       "       [ 3.91939374e-03, -1.25346134e-03,  3.90877524e-03],\n",
       "       [ 4.67470258e-03, -2.92967241e-03,  1.79087204e-03],\n",
       "       [ 2.57434635e-03, -3.42205343e-03,  1.48392410e-03],\n",
       "       [ 1.35960544e-03,  1.26517533e-03, -4.77591325e-03],\n",
       "       [ 1.14214574e-03,  2.78389438e-03, -2.17309490e-03],\n",
       "       [ 3.81163020e-03, -1.62508471e-03, -2.06762870e-03],\n",
       "       [-1.35894877e-03,  5.92222478e-04, -2.66670665e-03],\n",
       "       [-2.42479045e-04, -2.08665870e-04,  1.35231820e-03],\n",
       "       [ 4.52246248e-03, -6.68348971e-04,  1.00280031e-03],\n",
       "       [-1.85779286e-03, -2.05097694e-03, -1.60966457e-03],\n",
       "       [-2.94754809e-03, -5.33338056e-04,  4.76290403e-03],\n",
       "       [ 2.62105020e-03, -6.23046770e-04,  2.17218749e-04],\n",
       "       [ 1.40528183e-03, -1.36294005e-03,  3.18670013e-03],\n",
       "       [ 1.37141748e-04,  1.16880737e-03,  4.00515826e-03],\n",
       "       [ 5.85785271e-04,  3.96095206e-03, -1.95870999e-05],\n",
       "       [ 4.42311860e-03,  7.35234223e-04,  2.37131849e-03],\n",
       "       [ 3.48613996e-03,  1.45995336e-03,  2.88855610e-03],\n",
       "       [ 3.38636193e-03,  2.54454117e-03,  4.01216888e-03],\n",
       "       [ 1.10851583e-03, -3.23498292e-03,  4.03659682e-03],\n",
       "       [-4.84941898e-03,  6.11252982e-04, -1.54050872e-03],\n",
       "       [-3.17880885e-04, -4.09231644e-03, -4.23176321e-04],\n",
       "       [-2.92086670e-03, -4.69668571e-03,  1.93993884e-03],\n",
       "       [ 1.29337880e-03, -3.81955801e-03, -3.73987066e-03],\n",
       "       [ 8.35384126e-04,  1.78776489e-03, -4.62926858e-03],\n",
       "       [-4.69389546e-03, -4.11179583e-03, -1.03193950e-03],\n",
       "       [-4.76516197e-03, -4.31208407e-03, -2.01817309e-03],\n",
       "       [-1.71885329e-03,  2.10966778e-03, -1.82910468e-03],\n",
       "       [-4.90172097e-03, -4.40092499e-03, -2.02944459e-03],\n",
       "       [-1.65592345e-03, -1.31875931e-04, -1.22124839e-03],\n",
       "       [ 1.55304727e-03, -4.78617144e-04, -6.95082099e-04],\n",
       "       [-2.17509514e-03, -1.32007018e-03,  3.50114419e-03],\n",
       "       [-1.84010949e-03, -8.52463210e-05,  1.98744841e-03],\n",
       "       [-6.06343794e-04,  1.38853714e-03, -4.75916138e-03],\n",
       "       [-4.61321454e-03,  2.99244383e-03,  3.48187838e-03]])>"
      ]
     },
     "execution_count": 9,
     "metadata": {},
     "output_type": "execute_result"
    }
   ],
   "source": [
    "TFG.surface_points_all"
   ]
  },
  {
   "cell_type": "code",
   "execution_count": null,
   "metadata": {
    "ExecuteTime": {
     "end_time": "2020-04-13T20:32:51.888523Z",
     "start_time": "2020-04-13T20:32:39.327Z"
    }
   },
   "outputs": [],
   "source": [
    "interpolator.grid.get_grid_args('centered')[1]"
   ]
  },
  {
   "cell_type": "code",
   "execution_count": null,
   "metadata": {
    "ExecuteTime": {
     "end_time": "2020-04-13T20:32:51.889753Z",
     "start_time": "2020-04-13T20:32:39.337Z"
    }
   },
   "outputs": [],
   "source": [
    "Z_x = TFG.scalar_field()"
   ]
  },
  {
   "cell_type": "code",
   "execution_count": null,
   "metadata": {
    "ExecuteTime": {
     "end_time": "2020-04-13T20:32:51.890775Z",
     "start_time": "2020-04-13T20:32:39.347Z"
    }
   },
   "outputs": [],
   "source": [
    "surface_points_coord = tf.Variable(surface_points_coord,dtype = tf.float64)\n",
    "\n",
    "with tf.GradientTape() as t:\n",
    "    TFG = TFGraph(dips_position, dip_angles, azimuth,\n",
    "      polarity, surface_points_coord, fault_drift,\n",
    "      grid, values_properties, len_rest_form, Range,\n",
    "      C_o, nugget_effect_scalar, nugget_effect_grad,\n",
    "      rescale_factor)\n",
    "    t.watch(surface_points_coord)\n",
    "    \n",
    "\n",
    "    grid_val = TFG.x_to_interpolate(grid)\n",
    "    weights = TFG.solve_kriging()\n",
    "\n",
    "    tiled_weights = TFG.extend_dual_kriging(weights, grid_val.shape[0])\n",
    "\n",
    "    sigma_0_grad = TFG.contribution_gradient_interface(grid_val, tiled_weights)\n",
    "    sigma_0_interf = TFG.contribution_interface(grid_val, tiled_weights)\n",
    "    f_0 = TFG.contribution_universal_drift(grid_val,weights)\n",
    "    Z_x = TFG.scalar_field()\n",
    "    scalar_field_at_surface_points = TFG.get_scalar_field_at_surface_points(Z_x)\n",
    "    formations_block = TFG.export_formation_block(Z_x,scalar_field_at_surface_points,values_properties)\n",
    "\n",
    "    lg_0 = tf.constant(interpolator.grid.get_grid_args('centered')[0])\n",
    "    lg_1 = tf.constant(interpolator.grid.get_grid_args('centered')[1])\n",
    "    densities = formations_block[1][lg_0:lg_1]\n",
    "\n",
    "    grav = TFG.compute_forward_gravity(tz,lg_0,lg_1,densities)\n",
    "grad = t.gradient(grav,surface_points_coord)\n",
    "print(grad)"
   ]
  },
  {
   "cell_type": "code",
   "execution_count": null,
   "metadata": {
    "ExecuteTime": {
     "end_time": "2020-04-13T20:32:51.891802Z",
     "start_time": "2020-04-13T20:32:39.355Z"
    }
   },
   "outputs": [],
   "source": [
    "lg_0 = interpolator.grid.get_grid_args('centered')[0]\n",
    "lg_1 = interpolator.grid.get_grid_args('centered')[1]\n",
    "densities = formations_block[1][lg_0:lg_1]\n",
    "\n",
    "grav = TFG.compute_forward_gravity(tz,lg_0,lg_1,densities)"
   ]
  },
  {
   "cell_type": "code",
   "execution_count": null,
   "metadata": {
    "ExecuteTime": {
     "end_time": "2020-04-13T20:32:51.892680Z",
     "start_time": "2020-04-13T20:32:39.363Z"
    }
   },
   "outputs": [],
   "source": [
    "grav = tf.reshape(grav,[20,20])\n",
    "### Plot gravity response\n",
    "xx,yy = np.meshgrid(X,Y)\n",
    "\n",
    "gp.plot.plot_data(geo_data, direction='z')\n",
    "plt.scatter(xy_ravel[:,0], xy_ravel[:, 1], s=10,zorder=1)\n",
    "plt.contourf(xx,yy,grav,zorder=-1)"
   ]
  },
  {
   "cell_type": "code",
   "execution_count": null,
   "metadata": {
    "ExecuteTime": {
     "end_time": "2020-04-13T20:32:51.894301Z",
     "start_time": "2020-04-13T20:32:39.371Z"
    }
   },
   "outputs": [],
   "source": [
    "TFG.ref_layer_points.shape"
   ]
  },
  {
   "cell_type": "code",
   "execution_count": null,
   "metadata": {
    "ExecuteTime": {
     "end_time": "2020-04-13T20:32:51.895726Z",
     "start_time": "2020-04-13T20:32:39.379Z"
    }
   },
   "outputs": [],
   "source": [
    "TFG.dips_position_all_tiled"
   ]
  },
  {
   "cell_type": "code",
   "execution_count": null,
   "metadata": {
    "ExecuteTime": {
     "end_time": "2020-04-13T20:32:51.896578Z",
     "start_time": "2020-04-13T20:32:39.387Z"
    }
   },
   "outputs": [],
   "source": [
    "surface_points_coord = tf.Variable(surface_points_coord,dtype = tf.float64)\n",
    "\n",
    "with tf.GradientTape() as t:\n",
    "    t.watch(TFG.surface_points_all)\n",
    "    TFG = TFGraph(dips_position, dip_angles, azimuth,\n",
    "          polarity, surface_points_coord, fault_drift,\n",
    "          grid, values_properties, len_rest_form, Range,\n",
    "          C_o, nugget_effect_scalar, nugget_effect_grad,\n",
    "          rescale_factor)\n",
    "    \n",
    "grad = t.gradient(TFG.rest_layer_points,TFG.surface_points_all)"
   ]
  },
  {
   "cell_type": "code",
   "execution_count": null,
   "metadata": {
    "ExecuteTime": {
     "end_time": "2020-04-13T20:32:51.897832Z",
     "start_time": "2020-04-13T20:32:39.396Z"
    }
   },
   "outputs": [],
   "source": [
    "@tf.function\n",
    "def gravity():\n",
    "    TFG = TFGraph(dips_position, dip_angles, azimuth,\n",
    "      polarity, surface_points_coord, fault_drift,\n",
    "      grid, values_properties, len_rest_form, Range,\n",
    "      C_o, nugget_effect_scalar, nugget_effect_grad,\n",
    "      rescale_factor)\n",
    "    grid_val = TFG.x_to_interpolate(grid)"
   ]
  },
  {
   "cell_type": "code",
   "execution_count": 48,
   "metadata": {
    "ExecuteTime": {
     "end_time": "2020-04-13T20:50:17.484666Z",
     "start_time": "2020-04-13T20:50:17.479543Z"
    }
   },
   "outputs": [],
   "source": [
    "class Pow(tf.Module):\n",
    "    def __init__(self, exponent):\n",
    "        super(Pow, self).__init__()\n",
    "        self.exponent = tf.Variable(exponent, dtype = tf.float32, name='Pow/exponent')\n",
    "        \n",
    "    @tf.function\n",
    "    def function1(self):\n",
    "        return tf.constant(2.) ** self.exponenate\n",
    "    \n",
    "    @tf.function\n",
    "    def function2(self):\n",
    "        self.exponenate = self.exponent+1\n",
    "        return self.function1()*10"
   ]
  },
  {
   "cell_type": "code",
   "execution_count": 49,
   "metadata": {
    "ExecuteTime": {
     "end_time": "2020-04-13T20:50:20.582010Z",
     "start_time": "2020-04-13T20:50:20.579193Z"
    }
   },
   "outputs": [],
   "source": [
    "pow = Pow(3)"
   ]
  },
  {
   "cell_type": "code",
   "execution_count": 50,
   "metadata": {
    "ExecuteTime": {
     "end_time": "2020-04-13T20:50:23.832332Z",
     "start_time": "2020-04-13T20:50:23.815218Z"
    }
   },
   "outputs": [
    {
     "data": {
      "text/plain": [
       "<tf.Tensor: shape=(), dtype=float32, numpy=160.0>"
      ]
     },
     "execution_count": 50,
     "metadata": {},
     "output_type": "execute_result"
    }
   ],
   "source": [
    "pow.function2()"
   ]
  },
  {
   "cell_type": "code",
   "execution_count": 46,
   "metadata": {
    "ExecuteTime": {
     "end_time": "2020-04-13T20:50:05.062624Z",
     "start_time": "2020-04-13T20:50:04.985684Z"
    }
   },
   "outputs": [
    {
     "data": {
      "text/plain": [
       "<tf.Tensor: shape=(), dtype=float32, numpy=320.0>"
      ]
     },
     "execution_count": 46,
     "metadata": {},
     "output_type": "execute_result"
    }
   ],
   "source": [
    "pow.exponent.assign(4)\n",
    "pow.function2()"
   ]
  },
  {
   "cell_type": "code",
   "execution_count": null,
   "metadata": {},
   "outputs": [],
   "source": []
  }
 ],
 "metadata": {
  "kernelspec": {
   "display_name": "Python 3.7.7 64-bit ('gempy': conda)",
   "language": "python",
   "name": "python37764bitgempyconda56adf421e2e348a0921383dec03a4eee"
  },
  "language_info": {
   "codemirror_mode": {
    "name": "ipython",
    "version": 3
   },
   "file_extension": ".py",
   "mimetype": "text/x-python",
   "name": "python",
   "nbconvert_exporter": "python",
   "pygments_lexer": "ipython3",
   "version": "3.7.7"
  },
  "varInspector": {
   "cols": {
    "lenName": 16,
    "lenType": 16,
    "lenVar": 40
   },
   "kernels_config": {
    "python": {
     "delete_cmd_postfix": "",
     "delete_cmd_prefix": "del ",
     "library": "var_list.py",
     "varRefreshCmd": "print(var_dic_list())"
    },
    "r": {
     "delete_cmd_postfix": ") ",
     "delete_cmd_prefix": "rm(",
     "library": "var_list.r",
     "varRefreshCmd": "cat(var_dic_list()) "
    }
   },
   "types_to_exclude": [
    "module",
    "function",
    "builtin_function_or_method",
    "instance",
    "_Feature"
   ],
   "window_display": false
  }
 },
 "nbformat": 4,
 "nbformat_minor": 4
}
