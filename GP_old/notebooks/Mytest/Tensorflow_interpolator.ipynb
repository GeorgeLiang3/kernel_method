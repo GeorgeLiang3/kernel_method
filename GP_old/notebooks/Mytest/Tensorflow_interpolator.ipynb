{
 "cells": [
  {
   "cell_type": "code",
   "execution_count": 1,
   "metadata": {
    "ExecuteTime": {
     "end_time": "2020-04-15T21:58:46.298219Z",
     "start_time": "2020-04-15T21:58:31.031090Z"
    }
   },
   "outputs": [
    {
     "name": "stdout",
     "output_type": "stream",
     "text": [
      "Active grids: ['regular']\n",
      "Active grids: ['regular' 'centered']\n",
      "Active grids: ['regular' 'centered']\n",
      "WARNING:tensorflow:From /Users/zhouji/.local/lib/python3.7/site-packages/tensorflow/python/ops/math_ops.py:4291: setdiff1d (from tensorflow.python.ops.array_ops) is deprecated and will be removed after 2018-11-30.\n",
      "Instructions for updating:\n",
      "This op will be removed after the deprecation date. Please switch to tf.sets.difference().\n"
     ]
    }
   ],
   "source": [
    "import sys\n",
    "import numpy as np\n",
    "import matplotlib.pyplot as plt\n",
    "sys.path.append(\"/Users/zhouji/Documents/github/gempy\")\n",
    "\n",
    "from gempy.core.tensor.tensorflow_graph_test import TFGraph\n",
    "import tensorflow as tf\n",
    "import pandas as pd\n",
    "import gempy as gp\n",
    "from gempy.assets.geophysics import GravityPreprocessing\n",
    "import tensorflow_probability as tfp\n",
    "import timeit\n",
    "import scipy.stats as stats\n",
    "import math\n",
    "tfb = tfp.bijectors\n",
    "tfd=tfp.distributions\n",
    "psd_kernels = tfp.math.psd_kernels\n",
    "\n",
    "def Plot_2D_scaler_field(grid,scaler_field):\n",
    "    G = grid[np.where(grid[:,1] == [grid[-1][1]])[0]]\n",
    "    S = scaler_field.numpy()[np.where(grid[:,1] == [grid[0][1]])[0]]\n",
    "    XX = G[:,0].reshape([50,50])\n",
    "    ZZ = G[:,2].reshape([50,50])\n",
    "    S = S.reshape([50,50])\n",
    "    plt.contour(XX,ZZ,S)\n",
    "\n",
    "\n",
    "geo_data = gp.create_data([0, 1000, 0, 1000, 0, 1000], resolution=[50, 50, 50],\n",
    "                          path_o=\"/Users/zhouji/Documents/github/gempy/notebooks/data/input_data/jan_models/model2_orientations.csv\",\n",
    "                          path_i=\"/Users/zhouji/Documents/github/gempy/notebooks/data/input_data/jan_models/model2_surface_points.csv\")\n",
    "gp.map_series_to_surfaces(geo_data, {\"Strat_Series\": (\n",
    "    'rock2', 'rock1'), \"Basement_Series\": ('basement')})\n",
    "\n",
    "geo_data.add_surface_values([2.61,3.1,2.92])\n",
    "\n",
    "## Gravity test\n",
    "## ---------\n",
    "grav_res = 20\n",
    "X = np.linspace(0, 1000, grav_res)\n",
    "Y = np.linspace(0, 1000, grav_res)\n",
    "Z= 300\n",
    "xyz= np.meshgrid(X, Y, Z)\n",
    "xy_ravel = np.vstack(list(map(np.ravel, xyz))).T\n",
    "\n",
    "\n",
    "geo_data.set_centered_grid(xy_ravel,  resolution = [10, 10, 15], radius=5000)\n",
    "interpolator = geo_data.interpolator\n",
    "dtype = interpolator.additional_data.options.df.loc['values', 'dtype']\n",
    "\n",
    "dips_position, dip_angles, azimuth, polarity, surface_points_coord, fault_drift, grid, values_properties = interpolator.get_python_input_block()[\n",
    "    0:-3]\n",
    "\n",
    "g = GravityPreprocessing(geo_data.grid.centered_grid)\n",
    "tz = g.set_tz_kernel()\n",
    "\n",
    "len_rest_form = interpolator.additional_data.structure_data.df.loc[\n",
    "    'values', 'len surfaces surface_points']-1\n",
    "Range = interpolator.additional_data.kriging_data.df.loc['values', 'range']\n",
    "C_o = interpolator.additional_data.kriging_data.df.loc['values', '$C_o$']\n",
    "rescale_factor = interpolator.additional_data.rescaling_data.df.loc[\n",
    "    'values', 'rescaling factor']\n",
    "nugget_effect_grad = np.cast[dtype](\n",
    "    np.tile(interpolator.orientations.df['smooth'], 3))\n",
    "nugget_effect_scalar = np.cast[interpolator.dtype](\n",
    "    interpolator.surface_points.df['smooth'])\n",
    "\n",
    "surface_points_coord = tf.Variable(surface_points_coord,dtype = tf.float64)\n",
    "\n",
    "dips_position = tf.convert_to_tensor(dips_position)\n",
    "dip_angles = tf.convert_to_tensor(dip_angles)\n",
    "azimuth = tf.convert_to_tensor(azimuth)\n",
    "polarity = tf.convert_to_tensor(polarity)\n",
    "surface_points_coord = tf.convert_to_tensor(surface_points_coord)\n",
    "fault_drift = tf.convert_to_tensor(fault_drift)\n",
    "grid = tf.convert_to_tensor(grid)\n",
    "values_properties = tf.convert_to_tensor(values_properties)\n",
    "len_rest_form = tf.convert_to_tensor(len_rest_form)\n",
    "Range = tf.convert_to_tensor(Range,tf.float64)\n",
    "C_o = tf.convert_to_tensor(C_o)\n",
    "nugget_effect_grad = tf.convert_to_tensor(nugget_effect_grad)\n",
    "nugget_effect_scalar = tf.convert_to_tensor(nugget_effect_scalar)\n",
    "rescale_factor = tf.convert_to_tensor(rescale_factor,tf.float64)\n",
    "TFG = TFGraph(dips_position, dip_angles, azimuth,\n",
    "  polarity, surface_points_coord, fault_drift,\n",
    "  grid, values_properties, len_rest_form, Range,\n",
    "  C_o, nugget_effect_scalar, nugget_effect_grad,\n",
    "  rescale_factor)\n",
    "\n",
    "\n",
    "Z_x = TFG.scalar_field()\n",
    "scalar_field_at_surface_points = TFG.get_scalar_field_at_surface_points(Z_x)\n",
    "formations_block = TFG.export_formation_block(Z_x,scalar_field_at_surface_points,values_properties)\n",
    "\n",
    "lg_0 = interpolator.grid.get_grid_args('centered')[0]\n",
    "lg_1 = interpolator.grid.get_grid_args('centered')[1]\n",
    "\n",
    "densities = formations_block[1][lg_0:lg_1]\n",
    "\n",
    "grav = TFG.compute_forward_gravity(tz,lg_0,lg_1,densities)\n",
    "\n",
    "Data = grav"
   ]
  },
  {
   "cell_type": "code",
   "execution_count": 2,
   "metadata": {
    "ExecuteTime": {
     "end_time": "2020-04-15T21:58:46.707807Z",
     "start_time": "2020-04-15T21:58:46.705338Z"
    }
   },
   "outputs": [],
   "source": [
    "def constant64(i):\n",
    "    return(tf.constant(i,dtype = tf.float64))"
   ]
  },
  {
   "cell_type": "markdown",
   "metadata": {},
   "source": [
    "#### Data mutation test"
   ]
  },
  {
   "cell_type": "code",
   "execution_count": 3,
   "metadata": {
    "ExecuteTime": {
     "end_time": "2020-04-15T21:09:54.946423Z",
     "start_time": "2020-04-15T21:09:52.893642Z"
    }
   },
   "outputs": [
    {
     "name": "stdout",
     "output_type": "stream",
     "text": [
      "2.047830831999999\n"
     ]
    }
   ],
   "source": [
    "start = timeit.default_timer()\n",
    "TFG.surface_points_all.assign(TFG.surface_points_all+tf.random.uniform(TFG.surface_points_all.shape,minval=-10., maxval=10.,dtype = tf.float64)/rescale_factor)\n",
    "Z_x = TFG.scalar_field()\n",
    "end = timeit.default_timer()\n",
    "print(end - start)\n",
    "# Z_x = new"
   ]
  },
  {
   "cell_type": "code",
   "execution_count": 3,
   "metadata": {
    "ExecuteTime": {
     "end_time": "2020-04-15T21:58:55.976604Z",
     "start_time": "2020-04-15T21:58:55.689481Z"
    }
   },
   "outputs": [
    {
     "data": {
      "text/plain": [
       "<matplotlib.contour.QuadContourSet at 0x14a0112d0>"
      ]
     },
     "execution_count": 3,
     "metadata": {},
     "output_type": "execute_result"
    },
    {
     "data": {
      "image/png": "[encoded data removed]",
      "text/plain": [
       "<Figure size 432x432 with 1 Axes>"
      ]
     },
     "metadata": {
      "needs_background": "light"
     },
     "output_type": "display_data"
    }
   ],
   "source": [
    "scalar_field_at_surface_points = TFG.get_scalar_field_at_surface_points(Z_x)\n",
    "formations_block = TFG.export_formation_block(Z_x,scalar_field_at_surface_points,values_properties)\n",
    "\n",
    "densities = formations_block[1][lg_0:lg_1]\n",
    "\n",
    "grav = TFG.compute_forward_gravity(tz,lg_0,lg_1,densities)\n",
    "\n",
    "grav = tf.reshape(grav,[20,20])\n",
    "### Plot gravity response\n",
    "xx,yy = np.meshgrid(X,Y)\n",
    "\n",
    "gp.plot.plot_data(geo_data, direction='z',)\n",
    "ax = plt.gca()\n",
    "ax.scatter(xy_ravel[:,0], xy_ravel[:, 1], s=10,zorder=1)\n",
    "ax.contourf(xx,yy,grav,zorder=-1)"
   ]
  },
  {
   "cell_type": "code",
   "execution_count": 30,
   "metadata": {
    "ExecuteTime": {
     "end_time": "2020-04-16T15:56:51.046568Z",
     "start_time": "2020-04-16T15:56:50.518265Z"
    }
   },
   "outputs": [
    {
     "data": {
      "text/plain": [
       "<gempy.plot.visualization_2d.PlotData2D at 0x14f947d90>"
      ]
     },
     "execution_count": 30,
     "metadata": {},
     "output_type": "execute_result"
    },
    {
     "data": {
      "image/png": "[encoded data removed]",
      "text/plain": [
       "<Figure size 432x432 with 1 Axes>"
      ]
     },
     "metadata": {
      "needs_background": "light"
     },
     "output_type": "display_data"
    }
   ],
   "source": [
    "gp.plot.plot_data(geo_data, direction='y',)"
   ]
  },
  {
   "cell_type": "code",
   "execution_count": 41,
   "metadata": {
    "ExecuteTime": {
     "end_time": "2020-04-15T20:13:34.481321Z",
     "start_time": "2020-04-15T20:13:34.475820Z"
    }
   },
   "outputs": [],
   "source": [
    "mu = TFG.surface_points_all[:,2]+tf.random.uniform([tf.shape(TFG.surface_points_all)[0]],minval=-10., maxval=10.,dtype = tf.float64)/rescale_factor"
   ]
  },
  {
   "cell_type": "code",
   "execution_count": 42,
   "metadata": {
    "ExecuteTime": {
     "end_time": "2020-04-15T20:13:35.487534Z",
     "start_time": "2020-04-15T20:13:35.482490Z"
    }
   },
   "outputs": [
    {
     "data": {
      "text/plain": [
       "<tf.Tensor: shape=(36,), dtype=float64, numpy=\n",
       "array([0.34859126, 0.34230458, 0.34555205, 0.54944463, 0.54458417,\n",
       "       0.54153319, 0.44833514, 0.44883149, 0.44076218, 0.44618285,\n",
       "       0.4438519 , 0.44486877, 0.54843903, 0.54425179, 0.54092825,\n",
       "       0.34993918, 0.34601262, 0.34759102, 0.44299354, 0.44356691,\n",
       "       0.44753794, 0.4444913 , 0.44643758, 0.44139206, 0.6468732 ,\n",
       "       0.64095235, 0.64634486, 0.5451166 , 0.54808625, 0.54665738,\n",
       "       0.64043192, 0.64370593, 0.64405994, 0.54909408, 0.54646181,\n",
       "       0.54582052])>"
      ]
     },
     "execution_count": 42,
     "metadata": {},
     "output_type": "execute_result"
    }
   ],
   "source": [
    "mu"
   ]
  },
  {
   "cell_type": "code",
   "execution_count": 48,
   "metadata": {
    "ExecuteTime": {
     "end_time": "2020-04-15T20:24:32.645734Z",
     "start_time": "2020-04-15T20:24:30.578569Z"
    }
   },
   "outputs": [],
   "source": [
    "TFG.surface_points_all[:,2].assign(mu)\n",
    "Z_x = TFG.scalar_field()\n",
    "scalar_field_at_surface_points = TFG.get_scalar_field_at_surface_points(Z_x)\n",
    "formations_block = TFG.export_formation_block(Z_x,scalar_field_at_surface_points,values_properties)\n",
    "\n",
    "lg_0 = interpolator.grid.get_grid_args('centered')[0]\n",
    "lg_1 = interpolator.grid.get_grid_args('centered')[1]\n",
    "\n",
    "densities = formations_block[1][lg_0:lg_1]\n",
    "\n",
    "grav = TFG.compute_forward_gravity(tz,lg_0,lg_1,densities)"
   ]
  },
  {
   "cell_type": "code",
   "execution_count": 49,
   "metadata": {
    "ExecuteTime": {
     "end_time": "2020-04-15T20:24:33.889330Z",
     "start_time": "2020-04-15T20:24:33.886789Z"
    }
   },
   "outputs": [],
   "source": [
    "# grav = tf.reshape(grav,[20,20])\n",
    "# ### Plot gravity response\n",
    "# xx,yy = np.meshgrid(X,Y)\n",
    "# gp.plot.plot_data(geo_data, direction='z',)\n",
    "# ax = plt.gca()\n",
    "# ax.scatter(xy_ravel[:,0], xy_ravel[:, 1], s=10,zorder=1)\n",
    "# ax.contourf(xx,yy,grav,zorder=-1)"
   ]
  },
  {
   "cell_type": "markdown",
   "metadata": {},
   "source": [
    "# Bayesian inference\n",
    "### Define ground truth data"
   ]
  },
  {
   "cell_type": "code",
   "execution_count": 8,
   "metadata": {
    "ExecuteTime": {
     "end_time": "2020-04-15T21:10:25.408150Z",
     "start_time": "2020-04-15T21:10:25.404732Z"
    }
   },
   "outputs": [],
   "source": [
    "grav = tf.reshape(grav,[20,20])"
   ]
  },
  {
   "cell_type": "code",
   "execution_count": 9,
   "metadata": {
    "ExecuteTime": {
     "end_time": "2020-04-15T21:10:25.894815Z",
     "start_time": "2020-04-15T21:10:25.681900Z"
    }
   },
   "outputs": [
    {
     "data": {
      "text/plain": [
       "<matplotlib.colorbar.Colorbar at 0x14deed610>"
      ]
     },
     "execution_count": 9,
     "metadata": {},
     "output_type": "execute_result"
    },
    {
     "data": {
      "image/png": "[encoded data removed]",
      "text/plain": [
       "<Figure size 432x288 with 2 Axes>"
      ]
     },
     "metadata": {
      "needs_background": "light"
     },
     "output_type": "display_data"
    }
   ],
   "source": [
    "plt.contourf(xx,yy,grav,zorder=-1)\n",
    "plt.colorbar()"
   ]
  },
  {
   "cell_type": "code",
   "execution_count": 16,
   "metadata": {
    "ExecuteTime": {
     "end_time": "2020-04-16T10:22:44.008123Z",
     "start_time": "2020-04-16T10:22:44.005116Z"
    }
   },
   "outputs": [],
   "source": [
    "Number_para = TFG.surface_points_all.shape[0]\n",
    "obs_N = xy_ravel.shape[0]\n",
    "number_burnin = 30\n",
    "number_sample = 100"
   ]
  },
  {
   "cell_type": "code",
   "execution_count": 5,
   "metadata": {
    "ExecuteTime": {
     "end_time": "2020-04-15T21:59:01.868286Z",
     "start_time": "2020-04-15T21:59:01.859842Z"
    }
   },
   "outputs": [],
   "source": [
    "mu_prior = 750.*tf.ones([Number_para],dtype = tf.float64)\n",
    "cov_prior = 30000.*tf.eye(Number_para,dtype= tf.float64)\n",
    "\n",
    "sig_e = tf.constant(0.03, dtype=tf.float64) # standard deviation\n",
    "cov = sig_e**2.*tf.eye(obs_N,dtype = tf.float64)"
   ]
  },
  {
   "cell_type": "code",
   "execution_count": 6,
   "metadata": {
    "ExecuteTime": {
     "end_time": "2020-04-15T21:59:02.967793Z",
     "start_time": "2020-04-15T21:59:02.964444Z"
    }
   },
   "outputs": [],
   "source": [
    "mu = TFG.surface_points_all[:,2]"
   ]
  },
  {
   "cell_type": "code",
   "execution_count": 7,
   "metadata": {
    "ExecuteTime": {
     "end_time": "2020-04-15T21:59:05.961889Z",
     "start_time": "2020-04-15T21:59:03.501468Z"
    }
   },
   "outputs": [
    {
     "name": "stdout",
     "output_type": "stream",
     "text": [
      "tf.Tensor(-555.6974976613715, shape=(), dtype=float64)\n",
      "tf.Tensor(1035.0477456461238, shape=(), dtype=float64)\n"
     ]
    }
   ],
   "source": [
    "mvn_prior = tfd.MultivariateNormalTriL(\n",
    "        loc = mu_prior,\n",
    "        scale_tril=tf.linalg.cholesky(cov_prior))\n",
    "\n",
    "TFG.surface_points_all[:,2].assign(mu)\n",
    "Z_x = TFG.scalar_field()\n",
    "scalar_field_at_surface_points = TFG.get_scalar_field_at_surface_points(Z_x)\n",
    "formations_block = TFG.export_formation_block(Z_x,scalar_field_at_surface_points,values_properties)\n",
    "\n",
    "lg_0 = interpolator.grid.get_grid_args('centered')[0]\n",
    "lg_1 = interpolator.grid.get_grid_args('centered')[1]\n",
    "\n",
    "densities = formations_block[1][lg_0:lg_1]\n",
    "\n",
    "Gm_ = TFG.compute_forward_gravity(tz,lg_0,lg_1,densities)\n",
    "\n",
    "mvn_likelihood = tfd.MultivariateNormalTriL(\n",
    "            loc = Gm_,\n",
    "            scale_tril= tf.linalg.cholesky(cov))\n",
    "print(mvn_prior.log_prob(mu))\n",
    "print(mvn_likelihood.log_prob(Data))"
   ]
  },
  {
   "cell_type": "code",
   "execution_count": 8,
   "metadata": {
    "ExecuteTime": {
     "end_time": "2020-04-15T21:59:06.727104Z",
     "start_time": "2020-04-15T21:59:06.485256Z"
    }
   },
   "outputs": [
    {
     "data": {
      "image/png": "[encoded data removed]",
      "text/plain": [
       "<Figure size 432x288 with 1 Axes>"
      ]
     },
     "metadata": {
      "needs_background": "light"
     },
     "output_type": "display_data"
    },
    {
     "data": {
      "image/png": "[encoded data removed]",
      "text/plain": [
       "<Figure size 432x288 with 1 Axes>"
      ]
     },
     "metadata": {
      "needs_background": "light"
     },
     "output_type": "display_data"
    }
   ],
   "source": [
    "mu0= mu_prior[0]\n",
    "variance = cov_prior[0,0]\n",
    "sigma = math.sqrt(variance)\n",
    "x = np.linspace(mu0- 3*sigma, mu0+ 3*sigma, 100)\n",
    "plt.plot(x, stats.norm.pdf(x, mu0, sigma))\n",
    "plt.show()\n",
    "\n",
    "mu0= Gm_[0]\n",
    "variance = cov[0,0]\n",
    "sigma = math.sqrt(variance)\n",
    "x = np.linspace(mu0- 3*sigma, mu0+ 3*sigma, 100)\n",
    "plt.plot(x, stats.norm.pdf(x, mu0, sigma))\n",
    "plt.show()"
   ]
  },
  {
   "cell_type": "code",
   "execution_count": 11,
   "metadata": {
    "ExecuteTime": {
     "end_time": "2020-04-16T10:21:12.895289Z",
     "start_time": "2020-04-16T10:21:12.811058Z"
    }
   },
   "outputs": [],
   "source": [
    "@tf.function\n",
    "def joint_log_post(mu):\n",
    "    # define random variables prior\n",
    "    mvn_prior = tfd.MultivariateNormalTriL(\n",
    "            loc = mu_prior,\n",
    "            scale_tril=tf.linalg.cholesky(cov_prior))\n",
    "\n",
    "    TFG.surface_points_all[:,2].assign(mu)\n",
    "    Z_x = TFG.scalar_field()\n",
    "    scalar_field_at_surface_points = TFG.get_scalar_field_at_surface_points(Z_x)\n",
    "\n",
    "    formations_block = TFG.export_formation_block(Z_x,scalar_field_at_surface_points,values_properties)\n",
    "\n",
    "    lg_0 = interpolator.grid.get_grid_args('centered')[0]\n",
    "    lg_1 = interpolator.grid.get_grid_args('centered')[1]\n",
    "\n",
    "    densities = formations_block[1][lg_0:lg_1]\n",
    "\n",
    "    Gm_ = TFG.compute_forward_gravity(tz,lg_0,lg_1,densities)\n",
    "\n",
    "    mvn_likelihood = tfd.MultivariateNormalTriL(\n",
    "                loc = Gm_,\n",
    "                scale_tril= tf.linalg.cholesky(cov))\n",
    "    # return the posterior probability\n",
    "    return (mvn_prior.log_prob(mu)\n",
    "            +mvn_likelihood.log_prob(Data))\n"
   ]
  },
  {
   "cell_type": "code",
   "execution_count": 29,
   "metadata": {
    "ExecuteTime": {
     "end_time": "2020-04-16T12:33:13.146064Z",
     "start_time": "2020-04-16T12:33:10.263673Z"
    }
   },
   "outputs": [
    {
     "data": {
      "text/plain": [
       "<tf.Tensor: shape=(), dtype=float64, numpy=479.3502479847523>"
      ]
     },
     "execution_count": 29,
     "metadata": {},
     "output_type": "execute_result"
    }
   ],
   "source": [
    "joint_log_post(mu)"
   ]
  },
  {
   "cell_type": "code",
   "execution_count": 17,
   "metadata": {
    "ExecuteTime": {
     "end_time": "2020-04-16T10:31:26.818253Z",
     "start_time": "2020-04-16T10:23:07.641088Z"
    }
   },
   "outputs": [
    {
     "name": "stderr",
     "output_type": "stream",
     "text": [
      "/Users/zhouji/anaconda3/envs/gempy/lib/python3.7/site-packages/tensorflow_probability/python/mcmc/sample.py:333: UserWarning: Tracing all kernel results by default is deprecated. Set the `trace_fn` argument to None (the future default value) or an explicit callback that traces the values you are interested in.\n",
      "  warnings.warn(\"Tracing all kernel results by default is deprecated. Set \"\n"
     ]
    }
   ],
   "source": [
    "num_results = number_sample\n",
    "burnin = number_burnin\n",
    "\n",
    "start = timeit.default_timer()\n",
    "initial_chain_state = [\n",
    "    500 * tf.ones([Number_para], dtype=tf.float64, name=\"init_t1\"),\n",
    "]\n",
    "\n",
    "unnormalized_posterior_log_prob = lambda *args: joint_log_post(*args)\n",
    "\n",
    "def gauss_new_state_fn(scale, dtype):\n",
    "  gauss = tfd.Normal(loc=dtype(0), scale=dtype(scale))\n",
    "  def _fn(state_parts, seed):\n",
    "    next_state_parts = []\n",
    "    seed_stream  = tfp.util.SeedStream(seed, salt='RandomNormal')\n",
    "    for sp in state_parts:\n",
    "      next_state_parts.append(sp + gauss.sample(\n",
    "        sample_shape=sp.shape, seed=seed_stream()))\n",
    "    return next_state_parts\n",
    "  return _fn\n",
    "\n",
    "dtype = np.float64\n",
    "\n",
    "samples, kernel_results = tfp.mcmc.sample_chain(\n",
    "    num_results=num_results,\n",
    "    current_state=initial_chain_state,\n",
    "    kernel=tfp.mcmc.RandomWalkMetropolis(\n",
    "        target_log_prob_fn=unnormalized_posterior_log_prob,\n",
    "        new_state_fn=gauss_new_state_fn(scale=1, dtype=dtype)),\n",
    "    num_burnin_steps=burnin,\n",
    "    num_steps_between_results=1,  # Thinning.\n",
    "    parallel_iterations=1)\n",
    "\n",
    "samples = tf.stack(samples, axis=-1)\n",
    "accepted = kernel_results.is_accepted\n",
    "\n",
    "samples = samples.numpy()\n",
    "accepted = accepted.numpy()\n",
    "\n",
    "end = timeit.default_timer()\n",
    "print(start-end)\n"
   ]
  },
  {
   "cell_type": "code",
   "execution_count": 26,
   "metadata": {
    "ExecuteTime": {
     "end_time": "2020-04-16T10:50:08.973037Z",
     "start_time": "2020-04-16T10:50:08.969190Z"
    }
   },
   "outputs": [
    {
     "data": {
      "text/plain": [
       "1.3333333333333333"
      ]
     },
     "execution_count": 26,
     "metadata": {},
     "output_type": "execute_result"
    }
   ],
   "source": [
    "1000*0.08/60"
   ]
  },
  {
   "cell_type": "code",
   "execution_count": 24,
   "metadata": {
    "ExecuteTime": {
     "end_time": "2020-04-16T10:49:35.566930Z",
     "start_time": "2020-04-16T10:49:35.563717Z"
    }
   },
   "outputs": [],
   "source": [
    "accept_index = np.where(accepted==True)\n",
    "accepted_samples_RMH = samples[accept_index]"
   ]
  },
  {
   "cell_type": "code",
   "execution_count": 25,
   "metadata": {
    "ExecuteTime": {
     "end_time": "2020-04-16T10:49:39.613895Z",
     "start_time": "2020-04-16T10:49:39.607920Z"
    }
   },
   "outputs": [
    {
     "data": {
      "text/plain": [
       "array([[[500.21171922],\n",
       "        [497.05958986],\n",
       "        [497.13085777],\n",
       "        [493.51052738],\n",
       "        [498.05986426],\n",
       "        [502.83129307],\n",
       "        [500.92565759],\n",
       "        [507.46963975],\n",
       "        [503.40470921],\n",
       "        [495.48397419],\n",
       "        [502.25742875],\n",
       "        [503.66480541],\n",
       "        [503.61042944],\n",
       "        [493.14167373],\n",
       "        [496.62486179],\n",
       "        [497.21738553],\n",
       "        [500.72129723],\n",
       "        [499.96663827],\n",
       "        [508.25306826],\n",
       "        [498.57219882],\n",
       "        [503.13251507],\n",
       "        [500.26527168],\n",
       "        [491.24037119],\n",
       "        [502.25517103],\n",
       "        [500.97796162],\n",
       "        [494.55171486],\n",
       "        [501.14784012],\n",
       "        [507.52002936],\n",
       "        [491.61692322],\n",
       "        [494.15195748],\n",
       "        [503.13671741],\n",
       "        [499.51708409],\n",
       "        [496.30198316],\n",
       "        [495.13592541],\n",
       "        [494.48800924],\n",
       "        [488.04363299]],\n",
       "\n",
       "       [[501.98981377],\n",
       "        [497.08872167],\n",
       "        [496.64852673],\n",
       "        [493.98353394],\n",
       "        [497.35021967],\n",
       "        [503.02921113],\n",
       "        [501.01106973],\n",
       "        [505.79822561],\n",
       "        [501.24306364],\n",
       "        [495.73536203],\n",
       "        [501.5058443 ],\n",
       "        [504.99426873],\n",
       "        [505.06538481],\n",
       "        [491.52900025],\n",
       "        [497.44316599],\n",
       "        [497.66210849],\n",
       "        [501.03389232],\n",
       "        [498.71142071],\n",
       "        [507.56931128],\n",
       "        [498.79633677],\n",
       "        [502.72763893],\n",
       "        [499.61687222],\n",
       "        [491.69064309],\n",
       "        [503.67848941],\n",
       "        [500.66437311],\n",
       "        [494.92312507],\n",
       "        [500.11770288],\n",
       "        [506.5370058 ],\n",
       "        [491.83357182],\n",
       "        [493.35974158],\n",
       "        [502.63155005],\n",
       "        [498.42377451],\n",
       "        [496.64026981],\n",
       "        [494.68791401],\n",
       "        [494.00283069],\n",
       "        [489.23519013]],\n",
       "\n",
       "       [[502.58168442],\n",
       "        [499.07866935],\n",
       "        [498.40680551],\n",
       "        [494.2394641 ],\n",
       "        [497.48935289],\n",
       "        [502.84158922],\n",
       "        [503.90707459],\n",
       "        [505.26092824],\n",
       "        [502.52472708],\n",
       "        [495.73251025],\n",
       "        [501.65330198],\n",
       "        [501.71896675],\n",
       "        [505.39777864],\n",
       "        [493.46055977],\n",
       "        [496.16344052],\n",
       "        [496.8834087 ],\n",
       "        [501.1543116 ],\n",
       "        [498.4201909 ],\n",
       "        [509.26050923],\n",
       "        [499.74943166],\n",
       "        [503.78389986],\n",
       "        [499.67436232],\n",
       "        [490.52957021],\n",
       "        [501.67978658],\n",
       "        [501.08044508],\n",
       "        [495.17657847],\n",
       "        [501.03122103],\n",
       "        [505.60976352],\n",
       "        [491.05888159],\n",
       "        [492.67320339],\n",
       "        [504.8901931 ],\n",
       "        [496.57372212],\n",
       "        [498.70880133],\n",
       "        [493.65136242],\n",
       "        [494.45881598],\n",
       "        [487.83136001]]])"
      ]
     },
     "execution_count": 25,
     "metadata": {},
     "output_type": "execute_result"
    }
   ],
   "source": [
    "accepted_samples_RMH"
   ]
  },
  {
   "cell_type": "code",
   "execution_count": 28,
   "metadata": {
    "ExecuteTime": {
     "end_time": "2020-04-16T11:46:05.028358Z",
     "start_time": "2020-04-16T11:46:05.023369Z"
    }
   },
   "outputs": [
    {
     "data": {
      "text/plain": [
       "9.6"
      ]
     },
     "execution_count": 28,
     "metadata": {},
     "output_type": "execute_result"
    }
   ],
   "source": [
    "8*60/50"
   ]
  },
  {
   "cell_type": "code",
   "execution_count": null,
   "metadata": {},
   "outputs": [],
   "source": []
  },
  {
   "cell_type": "code",
   "execution_count": null,
   "metadata": {},
   "outputs": [],
   "source": []
  },
  {
   "cell_type": "code",
   "execution_count": null,
   "metadata": {},
   "outputs": [],
   "source": []
  },
  {
   "cell_type": "code",
   "execution_count": null,
   "metadata": {},
   "outputs": [],
   "source": []
  },
  {
   "cell_type": "code",
   "execution_count": null,
   "metadata": {},
   "outputs": [],
   "source": []
  },
  {
   "cell_type": "code",
   "execution_count": null,
   "metadata": {},
   "outputs": [],
   "source": []
  },
  {
   "cell_type": "code",
   "execution_count": null,
   "metadata": {},
   "outputs": [],
   "source": []
  },
  {
   "cell_type": "code",
   "execution_count": null,
   "metadata": {},
   "outputs": [],
   "source": []
  },
  {
   "cell_type": "code",
   "execution_count": null,
   "metadata": {},
   "outputs": [],
   "source": []
  },
  {
   "cell_type": "code",
   "execution_count": null,
   "metadata": {},
   "outputs": [],
   "source": []
  },
  {
   "cell_type": "code",
   "execution_count": null,
   "metadata": {},
   "outputs": [],
   "source": []
  },
  {
   "cell_type": "code",
   "execution_count": null,
   "metadata": {},
   "outputs": [],
   "source": []
  },
  {
   "cell_type": "code",
   "execution_count": 9,
   "metadata": {
    "ExecuteTime": {
     "end_time": "2020-04-14T14:42:28.860506Z",
     "start_time": "2020-04-14T14:42:28.786108Z"
    }
   },
   "outputs": [
    {
     "ename": "TypeError",
     "evalue": "x_to_interpolate() missing 2 required positional arguments: 'ref_layer_points' and 'rest_layer_points'",
     "output_type": "error",
     "traceback": [
      "\u001b[0;31m---------------------------------------------------------------------------\u001b[0m",
      "\u001b[0;31mTypeError\u001b[0m                                 Traceback (most recent call last)",
      "\u001b[0;32m<ipython-input-9-2b0d168ac934>\u001b[0m in \u001b[0;36m<module>\u001b[0;34m\u001b[0m\n\u001b[1;32m     10\u001b[0m \u001b[0;34m\u001b[0m\u001b[0m\n\u001b[1;32m     11\u001b[0m \u001b[0;34m\u001b[0m\u001b[0m\n\u001b[0;32m---> 12\u001b[0;31m     \u001b[0mgrid_val\u001b[0m \u001b[0;34m=\u001b[0m \u001b[0mTFG\u001b[0m\u001b[0;34m.\u001b[0m\u001b[0mx_to_interpolate\u001b[0m\u001b[0;34m(\u001b[0m\u001b[0mgrid\u001b[0m\u001b[0;34m)\u001b[0m\u001b[0;34m\u001b[0m\u001b[0;34m\u001b[0m\u001b[0m\n\u001b[0m\u001b[1;32m     13\u001b[0m     \u001b[0mweights\u001b[0m \u001b[0;34m=\u001b[0m \u001b[0mTFG\u001b[0m\u001b[0;34m.\u001b[0m\u001b[0msolve_kriging\u001b[0m\u001b[0;34m(\u001b[0m\u001b[0;34m)\u001b[0m\u001b[0;34m\u001b[0m\u001b[0;34m\u001b[0m\u001b[0m\n\u001b[1;32m     14\u001b[0m \u001b[0;34m\u001b[0m\u001b[0m\n",
      "\u001b[0;31mTypeError\u001b[0m: x_to_interpolate() missing 2 required positional arguments: 'ref_layer_points' and 'rest_layer_points'"
     ]
    }
   ],
   "source": [
    "surface_points_coord = tf.Variable(surface_points_coord,dtype = tf.float64)\n",
    "\n",
    "with tf.GradientTape() as t:\n",
    "    TFG = TFGraph(dips_position, dip_angles, azimuth,\n",
    "      polarity, surface_points_coord, fault_drift,\n",
    "      grid, values_properties, len_rest_form, Range,\n",
    "      C_o, nugget_effect_scalar, nugget_effect_grad,\n",
    "      rescale_factor)\n",
    "    t.watch(surface_points_coord)\n",
    "    \n",
    "\n",
    "    grid_val = TFG.x_to_interpolate(grid)\n",
    "    weights = TFG.solve_kriging()\n",
    "\n",
    "    tiled_weights = TFG.extend_dual_kriging(weights, grid_val.shape[0])\n",
    "\n",
    "    sigma_0_grad = TFG.contribution_gradient_interface(grid_val, tiled_weights)\n",
    "    sigma_0_interf = TFG.contribution_interface(grid_val, tiled_weights)\n",
    "    f_0 = TFG.contribution_universal_drift(grid_val,weights)\n",
    "    Z_x = TFG.scalar_field()\n",
    "    scalar_field_at_surface_points = TFG.get_scalar_field_at_surface_points(Z_x)\n",
    "    formations_block = TFG.export_formation_block(Z_x,scalar_field_at_surface_points,values_properties)\n",
    "\n",
    "    lg_0 = tf.constant(interpolator.grid.get_grid_args('centered')[0])\n",
    "    lg_1 = tf.constant(interpolator.grid.get_grid_args('centered')[1])\n",
    "    densities = formations_block[1][lg_0:lg_1]\n",
    "\n",
    "    grav = TFG.compute_forward_gravity(tz,lg_0,lg_1,densities)\n",
    "grad = t.gradient(grav,surface_points_coord)\n",
    "print(grad)"
   ]
  },
  {
   "cell_type": "code",
   "execution_count": null,
   "metadata": {
    "ExecuteTime": {
     "end_time": "2020-04-14T14:18:17.961937Z",
     "start_time": "2020-04-14T14:18:03.094Z"
    }
   },
   "outputs": [],
   "source": [
    "lg_0 = interpolator.grid.get_grid_args('centered')[0]\n",
    "lg_1 = interpolator.grid.get_grid_args('centered')[1]\n",
    "densities = formations_block[1][lg_0:lg_1]\n",
    "\n",
    "grav = TFG.compute_forward_gravity(tz,lg_0,lg_1,densities)"
   ]
  },
  {
   "cell_type": "code",
   "execution_count": 6,
   "metadata": {
    "ExecuteTime": {
     "end_time": "2020-04-14T14:32:19.361537Z",
     "start_time": "2020-04-14T14:32:17.360443Z"
    }
   },
   "outputs": [
    {
     "name": "stdout",
     "output_type": "stream",
     "text": [
      "Active grids: ['regular']\n",
      "tracing sqd\n",
      "tracing sqd\n",
      "tracing sqd\n",
      "tracing sqd\n",
      "tracing sqd\n",
      "tracing sqd\n",
      "tracing sqd\n",
      "tracing sqd\n",
      "tracing sqd\n",
      "tracing sqd\n",
      "tracing contribution inter\n",
      "executing sqd\n",
      "executing sqd\n",
      "executing sqd\n",
      "executing sqd\n",
      "executing sqd\n",
      "executing sqd\n",
      "executing contribution inter\n",
      "executing sqd\n",
      "executing sqd\n",
      "executing sqd\n",
      "executing sqd\n"
     ]
    }
   ],
   "source": [
    "import sys\n",
    "import numpy as np\n",
    "import matplotlib.pyplot as plt\n",
    "sys.path.append(\"/Users/zhouji/Documents/github/gempy\")\n",
    "\n",
    "from gempy.core.tensor.tensorflow_graph_test import TFGraph\n",
    "import tensorflow as tf\n",
    "import pandas as pd\n",
    "import gempy as gp\n",
    "from gempy.assets.geophysics import GravityPreprocessing\n",
    "\n",
    "def Plot_2D_scaler_field(grid,scaler_field):\n",
    "    G = grid[np.where(grid[:,1] == [grid[-1][1]])[0]]\n",
    "    S = scaler_field.numpy()[np.where(grid[:,1] == [grid[0][1]])[0]]\n",
    "    XX = G[:,0].reshape([50,50])\n",
    "    ZZ = G[:,2].reshape([50,50])\n",
    "    S = S.reshape([50,50])\n",
    "    plt.contour(XX,ZZ,S)\n",
    "\n",
    "\n",
    "geo_data = gp.create_data([0, 1000, 0, 1000, 0, 1000], resolution=[50, 50, 50],\n",
    "                          path_o=\"/Users/zhouji/Documents/github/gempy/notebooks/data/input_data/jan_models/model2_orientations.csv\",\n",
    "                          path_i=\"/Users/zhouji/Documents/github/gempy/notebooks/data/input_data/jan_models/model2_surface_points.csv\")\n",
    "gp.map_series_to_surfaces(geo_data, {\"Strat_Series\": (\n",
    "    'rock2', 'rock1'), \"Basement_Series\": ('basement')})\n",
    "\n",
    "geo_data.add_surface_values([2.61,3.1,2.92])\n",
    "\n",
    "## Gravity test\n",
    "## ---------\n",
    "# grav_res = 20\n",
    "# X = np.linspace(0, 1000, grav_res)\n",
    "# Y = np.linspace(0, 1000, grav_res)\n",
    "# Z= 300\n",
    "# xyz= np.meshgrid(X, Y, Z)\n",
    "# xy_ravel = np.vstack(list(map(np.ravel, xyz))).T\n",
    "\n",
    "\n",
    "# geo_data.set_centered_grid(xy_ravel,  resolution = [10, 10, 15], radius=5000)\n",
    "interpolator = geo_data.interpolator\n",
    "dtype = interpolator.additional_data.options.df.loc['values', 'dtype']\n",
    "\n",
    "dips_position, dip_angles, azimuth, polarity, surface_points_coord, fault_drift, grid, values_properties = interpolator.get_python_input_block()[\n",
    "    0:-3]\n",
    "\n",
    "# g = GravityPreprocessing(geo_data.grid.centered_grid)\n",
    "# tz = g.set_tz_kernel()\n",
    "\n",
    "len_rest_form = interpolator.additional_data.structure_data.df.loc[\n",
    "    'values', 'len surfaces surface_points']-1\n",
    "Range = interpolator.additional_data.kriging_data.df.loc['values', 'range']\n",
    "C_o = interpolator.additional_data.kriging_data.df.loc['values', '$C_o$']\n",
    "rescale_factor = interpolator.additional_data.rescaling_data.df.loc[\n",
    "    'values', 'rescaling factor']\n",
    "nugget_effect_grad = np.cast[dtype](\n",
    "    np.tile(interpolator.orientations.df['smooth'], 3))\n",
    "nugget_effect_scalar = np.cast[interpolator.dtype](\n",
    "    interpolator.surface_points.df['smooth'])\n",
    "\n",
    "surface_points_coord = tf.Variable(surface_points_coord,dtype = tf.float64)\n",
    "\n",
    "dips_position = tf.convert_to_tensor(dips_position)\n",
    "dip_angles = tf.convert_to_tensor(dip_angles)\n",
    "azimuth = tf.convert_to_tensor(azimuth)\n",
    "polarity = tf.convert_to_tensor(polarity)\n",
    "surface_points_coord = tf.convert_to_tensor(surface_points_coord)\n",
    "fault_drift = tf.convert_to_tensor(fault_drift)\n",
    "grid = tf.convert_to_tensor(grid)\n",
    "values_properties = tf.convert_to_tensor(values_properties)\n",
    "len_rest_form = tf.convert_to_tensor(len_rest_form)\n",
    "Range = tf.convert_to_tensor(Range,tf.float64)\n",
    "C_o = tf.convert_to_tensor(C_o)\n",
    "nugget_effect_grad = tf.convert_to_tensor(nugget_effect_grad)\n",
    "nugget_effect_scalar = tf.convert_to_tensor(nugget_effect_scalar)\n",
    "rescale_factor = tf.convert_to_tensor(rescale_factor,tf.float64)\n",
    "TFG = TFGraph(dips_position, dip_angles, azimuth,\n",
    "  polarity, surface_points_coord, fault_drift,\n",
    "  grid, values_properties, len_rest_form, Range,\n",
    "  C_o, nugget_effect_scalar, nugget_effect_grad,\n",
    "  rescale_factor)\n",
    "\n",
    "\n",
    "Z_x = TFG.scalar_field()"
   ]
  },
  {
   "cell_type": "code",
   "execution_count": 8,
   "metadata": {
    "ExecuteTime": {
     "end_time": "2020-04-14T14:32:32.550140Z",
     "start_time": "2020-04-14T14:32:32.275381Z"
    }
   },
   "outputs": [
    {
     "name": "stdout",
     "output_type": "stream",
     "text": [
      "executing sqd\n",
      "executing sqd\n",
      "executing sqd\n",
      "executing sqd\n",
      "executing sqd\n",
      "executing sqd\n",
      "executing contribution inter\n",
      "executing sqd\n",
      "executing sqd\n",
      "executing sqd\n",
      "executing sqd\n"
     ]
    },
    {
     "data": {
      "text/plain": [
       "<tf.Tensor: shape=(125068,), dtype=float64, numpy=\n",
       "array([0.3058228 , 0.31166632, 0.31674513, ..., 0.30266602, 0.30266602,\n",
       "       0.30266602])>"
      ]
     },
     "execution_count": 8,
     "metadata": {},
     "output_type": "execute_result"
    }
   ],
   "source": [
    "TFG.scalar_field()"
   ]
  },
  {
   "cell_type": "code",
   "execution_count": null,
   "metadata": {
    "ExecuteTime": {
     "end_time": "2020-04-14T14:18:17.964565Z",
     "start_time": "2020-04-14T14:18:03.134Z"
    }
   },
   "outputs": [],
   "source": [
    "TFG.ref_layer_points.shape"
   ]
  },
  {
   "cell_type": "code",
   "execution_count": null,
   "metadata": {
    "ExecuteTime": {
     "end_time": "2020-04-14T14:18:17.965717Z",
     "start_time": "2020-04-14T14:18:03.153Z"
    }
   },
   "outputs": [],
   "source": [
    "TFG.dips_position_all_tiled"
   ]
  },
  {
   "cell_type": "code",
   "execution_count": null,
   "metadata": {
    "ExecuteTime": {
     "end_time": "2020-04-14T14:18:17.966666Z",
     "start_time": "2020-04-14T14:18:03.171Z"
    }
   },
   "outputs": [],
   "source": [
    "surface_points_coord = tf.Variable(surface_points_coord,dtype = tf.float64)\n",
    "\n",
    "with tf.GradientTape() as t:\n",
    "    t.watch(TFG.surface_points_all)\n",
    "    TFG = TFGraph(dips_position, dip_angles, azimuth,\n",
    "          polarity, surface_points_coord, fault_drift,\n",
    "          grid, values_properties, len_rest_form, Range,\n",
    "          C_o, nugget_effect_scalar, nugget_effect_grad,\n",
    "          rescale_factor)\n",
    "    \n",
    "grad = t.gradient(TFG.rest_layer_points,TFG.surface_points_all)"
   ]
  },
  {
   "cell_type": "code",
   "execution_count": null,
   "metadata": {
    "ExecuteTime": {
     "end_time": "2020-04-14T14:18:17.967653Z",
     "start_time": "2020-04-14T14:18:03.191Z"
    }
   },
   "outputs": [],
   "source": [
    "@tf.function\n",
    "def gravity():\n",
    "    TFG = TFGraph(dips_position, dip_angles, azimuth,\n",
    "      polarity, surface_points_coord, fault_drift,\n",
    "      grid, values_properties, len_rest_form, Range,\n",
    "      C_o, nugget_effect_scalar, nugget_effect_grad,\n",
    "      rescale_factor)\n",
    "    grid_val = TFG.x_to_interpolate(grid)"
   ]
  },
  {
   "cell_type": "code",
   "execution_count": null,
   "metadata": {
    "ExecuteTime": {
     "end_time": "2020-04-14T14:18:17.968666Z",
     "start_time": "2020-04-14T14:18:03.211Z"
    }
   },
   "outputs": [],
   "source": [
    "class Pow(tf.Module):\n",
    "    def __init__(self, exponent):\n",
    "        super(Pow, self).__init__()\n",
    "        self.exponent = tf.Variable(exponent, dtype = tf.float32, name='Pow/exponent')\n",
    "        \n",
    "    @tf.function\n",
    "    def function1(self):\n",
    "        return tf.constant(2.) ** self.exponenate\n",
    "    \n",
    "    @tf.function\n",
    "    def function2(self):\n",
    "        self.exponenate = self.exponent+1\n",
    "        return self.function1()*10"
   ]
  },
  {
   "cell_type": "code",
   "execution_count": null,
   "metadata": {
    "ExecuteTime": {
     "end_time": "2020-04-14T14:18:17.969601Z",
     "start_time": "2020-04-14T14:18:03.230Z"
    }
   },
   "outputs": [],
   "source": [
    "pow = Pow(3)"
   ]
  },
  {
   "cell_type": "code",
   "execution_count": null,
   "metadata": {
    "ExecuteTime": {
     "end_time": "2020-04-14T14:18:17.970560Z",
     "start_time": "2020-04-14T14:18:03.249Z"
    }
   },
   "outputs": [],
   "source": [
    "pow.function2()"
   ]
  },
  {
   "cell_type": "code",
   "execution_count": null,
   "metadata": {
    "ExecuteTime": {
     "end_time": "2020-04-14T14:18:17.971640Z",
     "start_time": "2020-04-14T14:18:03.271Z"
    }
   },
   "outputs": [],
   "source": [
    "pow.exponent.assign(4)\n",
    "pow.function2()"
   ]
  },
  {
   "cell_type": "code",
   "execution_count": null,
   "metadata": {
    "ExecuteTime": {
     "end_time": "2020-04-14T14:18:17.972365Z",
     "start_time": "2020-04-14T14:18:03.292Z"
    }
   },
   "outputs": [],
   "source": [
    "x_2 = tf.constant([[2,0],[0,3]])"
   ]
  },
  {
   "cell_type": "code",
   "execution_count": null,
   "metadata": {
    "ExecuteTime": {
     "end_time": "2020-04-14T14:18:17.973019Z",
     "start_time": "2020-04-14T14:18:03.314Z"
    }
   },
   "outputs": [],
   "source": [
    "tf.reshape(x_2[:, 0], [tf.shape(x_2)[0], 1])"
   ]
  },
  {
   "cell_type": "code",
   "execution_count": null,
   "metadata": {},
   "outputs": [],
   "source": []
  }
 ],
 "metadata": {
  "kernelspec": {
   "display_name": "Python 3.7.7 64-bit ('gempy': conda)",
   "language": "python",
   "name": "python37764bitgempyconda56adf421e2e348a0921383dec03a4eee"
  },
  "language_info": {
   "codemirror_mode": {
    "name": "ipython",
    "version": 3
   },
   "file_extension": ".py",
   "mimetype": "text/x-python",
   "name": "python",
   "nbconvert_exporter": "python",
   "pygments_lexer": "ipython3",
   "version": "3.7.7"
  },
  "varInspector": {
   "cols": {
    "lenName": 16,
    "lenType": 16,
    "lenVar": 40
   },
   "kernels_config": {
    "python": {
     "delete_cmd_postfix": "",
     "delete_cmd_prefix": "del ",
     "library": "var_list.py",
     "varRefreshCmd": "print(var_dic_list())"
    },
    "r": {
     "delete_cmd_postfix": ") ",
     "delete_cmd_prefix": "rm(",
     "library": "var_list.r",
     "varRefreshCmd": "cat(var_dic_list()) "
    }
   },
   "types_to_exclude": [
    "module",
    "function",
    "builtin_function_or_method",
    "instance",
    "_Feature"
   ],
   "window_display": false
  }
 },
 "nbformat": 4,
 "nbformat_minor": 4
}
